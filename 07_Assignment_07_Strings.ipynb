{
 "cells": [
  {
   "cell_type": "markdown",
   "id": "dbe5a8a3",
   "metadata": {},
   "source": [
    "**1.Given two strings s and t, *determine if they are isomorphic*.**\n",
    "\n",
    "**Two strings s and t are isomorphic if the characters in s can be replaced to get t.**\n",
    "\n",
    "**All occurrences of a character must be replaced with another character while preserving the order of characters. No two characters may map to the same character, but a character may map to itself.**\n",
    "\n",
    "**Example 1:**\n",
    "\n",
    "**Input:** s = \"egg\", t = \"add\"\n",
    "\n",
    "**Output:** true"
   ]
  },
  {
   "cell_type": "code",
   "execution_count": 10,
   "id": "6921128a",
   "metadata": {},
   "outputs": [
    {
     "name": "stdout",
     "output_type": "stream",
     "text": [
      "True\n"
     ]
    }
   ],
   "source": [
    "def is_isomorphic(s, t):\n",
    "    if len(s) != len(t):\n",
    "        return False\n",
    "\n",
    "    s_dict = {}\n",
    "    t_dict = {}\n",
    "\n",
    "    for s_char, t_char in zip(s, t):\n",
    "        if s_char not in s_dict and t_char not in t_dict:\n",
    "            s_dict[s_char] = t_char\n",
    "            t_dict[t_char] = s_char\n",
    "        elif s_char in s_dict and s_dict[s_char] != t_char:\n",
    "            return False\n",
    "        elif t_char in t_dict and t_dict[t_char] != s_char:\n",
    "            return False\n",
    "\n",
    "    return True\n",
    "\n",
    "s = \"egg\" \n",
    "t = \"add\"\n",
    "print(is_isomorphic(s, t))"
   ]
  },
  {
   "cell_type": "markdown",
   "id": "6ac61bee",
   "metadata": {},
   "source": [
    "**2.Given a string num which represents an integer, return true *if* num is a strobogrammatic number.**\n",
    "\n",
    "**A strobogrammatic number is a number that looks the same when rotated 180 degrees (looked at\n",
    "upside down)**\n",
    "\n",
    "**Example 1:**\n",
    "\n",
    "**Input: num = \"69\"**\n",
    "\n",
    "**Output:**\n",
    "\n",
    "**true**"
   ]
  },
  {
   "cell_type": "code",
   "execution_count": 13,
   "id": "65d3bece",
   "metadata": {},
   "outputs": [
    {
     "name": "stdout",
     "output_type": "stream",
     "text": [
      "True\n"
     ]
    }
   ],
   "source": [
    "def is_strobogrammatic(num):\n",
    "    valid_pairs = {'0': '0', '1': '1', '6': '9', '8': '8', '9': '6'}\n",
    "    left, right = 0, len(num) - 1\n",
    "\n",
    "    while left <= right:\n",
    "        if num[left] not in valid_pairs or num[right] != valid_pairs[num[left]]:\n",
    "            return False\n",
    "        left += 1\n",
    "        right -= 1\n",
    "\n",
    "    return True\n",
    "\n",
    "num = \"69\"\n",
    "print(is_strobogrammatic(num))\n"
   ]
  },
  {
   "cell_type": "markdown",
   "id": "f5e5e449",
   "metadata": {},
   "source": [
    "**3.Given two non-negative integers, num1 and num2 represented as string, return *the sum of* num1 *and* num2 *as a string*.**\n",
    "\n",
    "**You must solve the problem without using any built-in library for handling large integers (such as BigInteger). You must also not convert the inputs to integers directly.**\n",
    "\n",
    "**Example 1:**\n",
    "\n",
    "**Input:** num1 = \"11\", num2 = \"123\"\n",
    "\n",
    "**Output:**\"134\""
   ]
  },
  {
   "cell_type": "code",
   "execution_count": 16,
   "id": "6e113df3",
   "metadata": {},
   "outputs": [
    {
     "name": "stdout",
     "output_type": "stream",
     "text": [
      "134\n"
     ]
    }
   ],
   "source": [
    "def addStrings(num1, num2):\n",
    "    result = \"\"\n",
    "    i, j = len(num1) - 1, len(num2) - 1\n",
    "    carry = 0\n",
    "\n",
    "    while i >= 0 or j >= 0:\n",
    "        digit1 = int(num1[i]) if i >= 0 else 0\n",
    "        digit2 = int(num2[j]) if j >= 0 else 0\n",
    "\n",
    "        digit_sum = digit1 + digit2 + carry\n",
    "        carry = digit_sum // 10\n",
    "        result += str(digit_sum % 10)\n",
    "\n",
    "        i -= 1\n",
    "        j -= 1\n",
    "\n",
    "    if carry > 0:\n",
    "        result += str(carry)\n",
    "\n",
    "    return result[::-1]\n",
    "\n",
    "num1 = \"11\"\n",
    "num2 = \"123\"\n",
    "print(addStrings(num1, num2))\n"
   ]
  },
  {
   "cell_type": "markdown",
   "id": "f8058b01",
   "metadata": {},
   "source": [
    "**4.Given a string s, reverse the order of characters in each word within a sentence while still preserving whitespace and initial word order.**\n",
    "\n",
    "**Example 1:**\n",
    "\n",
    "**Input:** s = \"Let's take LeetCode contest\"\n",
    "\n",
    "**Output:** \"s'teL ekat edoCteeL tsetnoc\""
   ]
  },
  {
   "cell_type": "code",
   "execution_count": 33,
   "id": "8b53ae06",
   "metadata": {},
   "outputs": [
    {
     "name": "stdout",
     "output_type": "stream",
     "text": [
      "s'teL ekat edoCteeL tsetnoc\n"
     ]
    }
   ],
   "source": [
    "def reverseWords(s):\n",
    "    result = \"\"\n",
    "    word = \"\"\n",
    "\n",
    "    for c in s:\n",
    "        if c.isspace():\n",
    "            result += word[::-1]\n",
    "            result += c\n",
    "            word = \"\"\n",
    "        else:\n",
    "            word += c\n",
    "\n",
    "    result += word[::-1]\n",
    "\n",
    "    return result\n",
    "\n",
    "s = \"Let's take LeetCode contest\"\n",
    "print(reverseWords(s))\n"
   ]
  },
  {
   "cell_type": "markdown",
   "id": "bfbb3d6c",
   "metadata": {},
   "source": [
    "**5.Given a string s and an integer k, reverse the first k characters for every 2k characters counting from the start of the string.**\n",
    "\n",
    "**If there are fewer than k characters left, reverse all of them. If there are less than 2k but greater than or equal to k characters, then reverse the first k characters and leave the other as original.**\n",
    "\n",
    "**Example 1:**\n",
    "\n",
    "**Input:** s = \"abcdefg\", k = 2\n",
    "\n",
    "**Output:**\"bacdfeg\""
   ]
  },
  {
   "cell_type": "code",
   "execution_count": 22,
   "id": "df12c552",
   "metadata": {},
   "outputs": [
    {
     "name": "stdout",
     "output_type": "stream",
     "text": [
      "bacdfeg\n"
     ]
    }
   ],
   "source": [
    "def reverseStr(s, k):\n",
    "    s = list(s)\n",
    "    n = len(s)\n",
    "\n",
    "    for i in range(0, n, 2*k):\n",
    "        s[i:i+k] = reversed(s[i:i+k])\n",
    "\n",
    "    return ''.join(s)\n",
    "\n",
    "s = \"abcdefg\"\n",
    "k = 2\n",
    "print(reverseStr(s, k))"
   ]
  },
  {
   "cell_type": "markdown",
   "id": "321d1343",
   "metadata": {},
   "source": [
    "**6.Given two strings s and goal, return true *if and only if* s *can become* goal *after some number of **shifts** on* s.**\n",
    "\n",
    "**A **shift** on s consists of moving the leftmost character of s to the rightmost position.**\n",
    "\n",
    "- For example, if s = \"abcde\", then it will be \"bcdea\" after one shift.\n",
    "\n",
    "**Example 1:**\n",
    "\n",
    "**Input:** s = \"abcde\", goal = \"cdeab\"\n",
    "\n",
    "**Output:** true"
   ]
  },
  {
   "cell_type": "code",
   "execution_count": 25,
   "id": "00310421",
   "metadata": {},
   "outputs": [
    {
     "data": {
      "text/plain": [
       "True"
      ]
     },
     "execution_count": 25,
     "metadata": {},
     "output_type": "execute_result"
    }
   ],
   "source": [
    "def rotateString(s, goal):\n",
    "    if len(s) != len(goal):\n",
    "        return False\n",
    "\n",
    "    s2 = s + s\n",
    "    return goal in s2\n",
    "s = \"abcde\"\n",
    "goal = \"cdeab\"\n",
    "rotateString(s, goal)\n"
   ]
  },
  {
   "cell_type": "markdown",
   "id": "b566cd32",
   "metadata": {},
   "source": [
    "**7.Given two strings s and t, return true *if they are equal when both are typed into empty text editors*. '#' means a backspace character.**\n",
    "\n",
    "**Note that after backspacing an empty text, the text will continue empty.**\n",
    "\n",
    "**Example 1:**\n",
    "\n",
    "**Input:** s = \"ab#c\", t = \"ad#c\"\n",
    "\n",
    "**Output:** true\n",
    "\n",
    "**Explanation:**\n",
    "\n",
    "Both s and t become \"ac\"."
   ]
  },
  {
   "cell_type": "code",
   "execution_count": 28,
   "id": "bc8932e2",
   "metadata": {},
   "outputs": [
    {
     "name": "stdout",
     "output_type": "stream",
     "text": [
      "True\n"
     ]
    }
   ],
   "source": [
    "def backspaceCompare(s, t):\n",
    "    def processString(string):\n",
    "        stack = []\n",
    "        for c in string:\n",
    "            if c != '#':\n",
    "                stack.append(c)\n",
    "            elif stack:\n",
    "                stack.pop()\n",
    "        return ''.join(stack)\n",
    "\n",
    "    processed_s = processString(s)\n",
    "    processed_t = processString(t)\n",
    "\n",
    "    return processed_s == processed_t\n",
    "\n",
    "s = \"ab#c\"\n",
    "t = \"ad#c\"\n",
    "print(backspaceCompare(s, t))\n"
   ]
  },
  {
   "cell_type": "markdown",
   "id": "bfe86791",
   "metadata": {},
   "source": [
    "**8.You are given an array coordinates, coordinates[i] = [x, y], where [x, y] represents the coordinate of a point. Check if these points make a straight line in the XY plane.**\n",
    "\n",
    "\n",
    "**Input:** coordinates = [[1,2],[2,3],[3,4],[4,5],[5,6],[6,7]]\n",
    "\n",
    "**Output:** true"
   ]
  },
  {
   "cell_type": "code",
   "execution_count": 31,
   "id": "d562c3fa",
   "metadata": {},
   "outputs": [
    {
     "name": "stdout",
     "output_type": "stream",
     "text": [
      "True\n"
     ]
    }
   ],
   "source": [
    "def checkStraightLine(coordinates):\n",
    "    x1, y1 = coordinates[0]\n",
    "    isStraightLine = True\n",
    "\n",
    "    for i in range(1, len(coordinates)):\n",
    "        x2, y2 = coordinates[i]\n",
    "        slopeX = x2 - x1\n",
    "        slopeY = y2 - y1\n",
    "\n",
    "        if slopeX != 0 and slopeY != 0 and (slopeY * (x2 - coordinates[1][0])) != (slopeX * (y2 - coordinates[1][1])):\n",
    "            isStraightLine = False\n",
    "            break\n",
    "\n",
    "    return isStraightLine\n",
    "\n",
    "coordinates = [[1,2],[2,3],[3,4],[4,5],[5,6],[6,7]]\n",
    "print(checkStraightLine(coordinates))"
   ]
  }
 ],
 "metadata": {
  "kernelspec": {
   "display_name": "Python 3 (ipykernel)",
   "language": "python",
   "name": "python3"
  },
  "language_info": {
   "codemirror_mode": {
    "name": "ipython",
    "version": 3
   },
   "file_extension": ".py",
   "mimetype": "text/x-python",
   "name": "python",
   "nbconvert_exporter": "python",
   "pygments_lexer": "ipython3",
   "version": "3.10.9"
  }
 },
 "nbformat": 4,
 "nbformat_minor": 5
}
