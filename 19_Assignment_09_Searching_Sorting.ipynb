{
 "cells": [
  {
   "cell_type": "markdown",
   "id": "85750986-7ee9-4992-a5b4-c2d5027ff4a2",
   "metadata": {},
   "source": [
    "Q1. Given a 1-indexed array of integers numbers that are already sorted in non-decreasing order, find two numbers such that they add up to a specific target number. Let these two numbers be numbers[index1] and numbers[index2] where 1 <= index1 < index2 < numbers.length.\n",
    "Return the indices of the two numbers, index1, and index2, added by one as an integer array [index1, index2] of length 2.\n",
    "The tests are generated such that there is exactly one solution. You may not use the same element twice.\n",
    "Your solution must use only constant extra space.\n",
    "\n",
    "Input: numbers = [2,7,11,15], target = 9\n",
    "Output: [1,2]\n",
    "Explanation: The sum of 2 and 7 is 9. Therefore, index1 = 1, index2 = 2. We return [1, 2]."
   ]
  },
  {
   "cell_type": "code",
   "execution_count": 1,
   "id": "8e75dcaf-09af-417e-8f8e-8c659bf22d64",
   "metadata": {},
   "outputs": [
    {
     "data": {
      "text/plain": [
       "[1, 2]"
      ]
     },
     "execution_count": 1,
     "metadata": {},
     "output_type": "execute_result"
    }
   ],
   "source": [
    "def twoSum(numbers: list[int], target: int) -> list[int]:\n",
    "    left, right = 0, len(numbers)-1\n",
    "    while left < right:\n",
    "        sum = numbers[left] + numbers[right]\n",
    "        if sum == target:\n",
    "            return [left+1, right+1]\n",
    "        if sum < target:\n",
    "            left += 1\n",
    "        else:\n",
    "            right -= 1\n",
    "            \n",
    "twoSum(numbers = [2,7,11,15], target = 9)"
   ]
  },
  {
   "cell_type": "markdown",
   "id": "d9cfaf25-8be8-47a4-8e60-e796fd75db1c",
   "metadata": {},
   "source": [
    "Q2. Given an array of integer nums sorted in non-decreasing order, find the starting and ending position of a given target value.\n",
    "If the target is not found in the array, return [-1, -1].\n",
    "You must write an algorithm with O(log n) runtime complexity\n",
    "\n",
    "Input: nums = [5,7,7,8,8,10], target = 8\n",
    "Output: [3,4]"
   ]
  },
  {
   "cell_type": "code",
   "execution_count": 2,
   "id": "2c85e716-869c-4f08-8425-7f036767978c",
   "metadata": {},
   "outputs": [
    {
     "data": {
      "text/plain": [
       "[3, 4]"
      ]
     },
     "execution_count": 2,
     "metadata": {},
     "output_type": "execute_result"
    }
   ],
   "source": [
    "def searchRange(nums: list[int], target: int) -> list[int]:\n",
    "    def findStart(nums, target):\n",
    "        left, right = 0, len(nums)-1\n",
    "        start = -1\n",
    "        while left <= right:\n",
    "            mid = left + (right - left) // 2\n",
    "            if nums[mid] >= target:\n",
    "                right = mid - 1\n",
    "            else:\n",
    "                left = mid + 1\n",
    "\n",
    "            if nums[mid]==target:\n",
    "                start = mid\n",
    "\n",
    "        return start\n",
    "\n",
    "    def findEnd(nums, target):\n",
    "        left, right = 0, len(nums)-1\n",
    "        end = -1\n",
    "        while left <= right:\n",
    "            mid = left + (right - left) // 2\n",
    "            if nums[mid] <= target:\n",
    "                left = mid + 1\n",
    "            else:\n",
    "                right = mid - 1\n",
    "\n",
    "            if nums[mid]==target:\n",
    "                end = mid\n",
    "\n",
    "        return end\n",
    "\n",
    "    start, end = findStart(nums, target), findEnd(nums, target)\n",
    "    return [start, end] \n",
    "\n",
    "searchRange(nums = [5,7,7,8,8,10], target = 8)"
   ]
  },
  {
   "cell_type": "markdown",
   "id": "6b6f1fc6-7cfb-451c-8dfc-0370b356d0b9",
   "metadata": {},
   "source": [
    "Q3. A peak element is an element that is strictly greater than its neighbors.\n",
    "Given a 0-indexed integer array nums, find a peak element, and return its index. If the array contains multiple peaks, return the index to any of the peaks.\n",
    "You may imagine that nums[-1] = nums[n] = -∞. In other words, an element is always considered to be strictly greater than a neighbor that is outside the array.\n",
    "You must write an algorithm that runs in O(log n) time.\n",
    "\n",
    "Input: nums = [1,2,3,1]\n",
    "Output: 2\n",
    "Explanation: 3 is a peak element and your function should return the index number 2.\n"
   ]
  },
  {
   "cell_type": "code",
   "execution_count": 3,
   "id": "5e24075d-50e1-4988-83f5-628059dd7abb",
   "metadata": {},
   "outputs": [
    {
     "data": {
      "text/plain": [
       "2"
      ]
     },
     "execution_count": 3,
     "metadata": {},
     "output_type": "execute_result"
    }
   ],
   "source": [
    "def findPeakElement(nums: list[int]) -> int:\n",
    "    left, right = 0, len(nums)-1\n",
    "    while left < right:\n",
    "        mid = left + (right - left) // 2\n",
    "        if nums[mid] < nums[mid+1]:\n",
    "            left = mid + 1\n",
    "        else:\n",
    "            right = mid\n",
    "\n",
    "    return left\n",
    "\n",
    "findPeakElement(nums = [1,2,3,1])"
   ]
  },
  {
   "cell_type": "markdown",
   "id": "7b0d3d35-59c8-4b18-a1ee-8bd78504dd47",
   "metadata": {},
   "source": [
    "Q4. Given a sorted array of distinct integers and a target value, return the index if the target is found. If not, return the index where it would be if it were inserted in order.\n",
    "You must write an algorithm with O(log n) runtime complexity.\n",
    "\n",
    "Input: nums = [1,3,5,6], target = 5\n",
    "Output: 2\n",
    "\n",
    "Input: nums = [1,3,5,6], target = 7\n",
    "Output: 4"
   ]
  },
  {
   "cell_type": "code",
   "execution_count": 4,
   "id": "4ba6201b-3018-441e-a80a-afe9db9b839e",
   "metadata": {},
   "outputs": [
    {
     "data": {
      "text/plain": [
       "4"
      ]
     },
     "execution_count": 4,
     "metadata": {},
     "output_type": "execute_result"
    }
   ],
   "source": [
    "def searchInsert(nums: list[int], target: int) -> int:\n",
    "    left, right = 0, len(nums)-1\n",
    "    while left <= right:\n",
    "        mid = left + (right - left) // 2\n",
    "        if nums[mid] == target:\n",
    "            return mid\n",
    "        elif nums[mid] < target:\n",
    "            left = mid + 1\n",
    "        else:\n",
    "            right = mid - 1\n",
    "\n",
    "    return left\n",
    "\n",
    "searchInsert(nums = [1,3,5,6], target = 7)"
   ]
  },
  {
   "cell_type": "markdown",
   "id": "b825ec63-fdc7-4590-a361-1faf77f5d13d",
   "metadata": {},
   "source": [
    "Q5. Find the majority element in the array. A majority element in an array A[] of size n is an element that appears more than n/2 times (and hence there is at most one such element). \n",
    "\n",
    "Input: A[]={3, 3, 4, 2, 4, 4, 2, 4, 4}\n",
    "Output: 4\n",
    "Explanation: The frequency of 4 is 5 which is greater than half of the size of the array size. \n"
   ]
  },
  {
   "cell_type": "code",
   "execution_count": 5,
   "id": "61b011c2-4889-4a45-bb27-1ef2ba562c19",
   "metadata": {},
   "outputs": [
    {
     "data": {
      "text/plain": [
       "4"
      ]
     },
     "execution_count": 5,
     "metadata": {},
     "output_type": "execute_result"
    }
   ],
   "source": [
    "def majorityElement(nums: list[int]) -> int:\n",
    "    count = {}\n",
    "    for num in nums:\n",
    "        count[num] = count.get(num, 0) + 1\n",
    "\n",
    "    n = len(nums) // 2\n",
    "    for k, v in count.items():\n",
    "        if v > n:\n",
    "            return k\n",
    "\n",
    "    return 0\n",
    "\n",
    "majorityElement([3, 3, 4, 2, 4, 4, 2, 4, 4])"
   ]
  },
  {
   "cell_type": "markdown",
   "id": "e47d9c8c-16a1-47fa-9791-66d6fb8bf987",
   "metadata": {},
   "source": [
    "Q6. You are a product manager and currently leading a team to develop a new product. Unfortunately, the latest version of your product fails the quality check. Since each version is developed based on the previous version, all the versions after a bad version are also bad.\n",
    "Suppose you have n versions [1, 2, ..., n] and you want to find out the first bad one, which causes all the following ones to be bad.\n",
    "You are given an API bool isBadVersion(version) which returns whether the version is bad. Implement a function to find the first bad version. You should minimize the number of calls to the API.\n",
    "\n",
    "Input: n = 5, bad = 4\n",
    "Output: 4\n",
    "Explanation:\n",
    "call isBadVersion(3) -> false\n",
    "call isBadVersion(5) -> true\n",
    "call isBadVersion(4) -> true\n",
    "Then 4 is the first bad version."
   ]
  },
  {
   "cell_type": "code",
   "execution_count": 6,
   "id": "31c221ec-6b78-4c39-9af6-0727000d34b4",
   "metadata": {},
   "outputs": [],
   "source": [
    "def firstBadVersion(n: int) -> int:\n",
    "    left, right = 1, n\n",
    "    while left < right:\n",
    "        mid = left + (right - left) // 2\n",
    "        if isBadVersion(mid):\n",
    "            right = mid\n",
    "        else:\n",
    "            left = mid + 1\n",
    "\n",
    "    return left"
   ]
  },
  {
   "cell_type": "markdown",
   "id": "4e47a690-19b1-482b-bd03-ae86492ffc0d",
   "metadata": {},
   "source": [
    "Q7. Given an array of integers, find the inversion of an array. Formally, two elements a[i] and a[j] form an inversion if a[i] > a[j] and i < j.\n",
    "\n",
    "N=5, arr[] = {2, 4, 1, 3, 5}\n",
    "Output: 3\n",
    "Explanation: (2,1) (4,1) and (4,3) forms an inversion in an array"
   ]
  },
  {
   "cell_type": "code",
   "execution_count": 7,
   "id": "ab9b4082-ba62-4ced-aa87-cded1891aa28",
   "metadata": {},
   "outputs": [
    {
     "data": {
      "text/plain": [
       "3"
      ]
     },
     "execution_count": 7,
     "metadata": {},
     "output_type": "execute_result"
    }
   ],
   "source": [
    "def getInvCount(arr, n):\n",
    "    count = 0\n",
    "    for i in range(n):\n",
    "        for j in range(i+1, n):\n",
    "            if arr[i] > arr[j] and i < j:\n",
    "                count += 1\n",
    "                \n",
    "    return count\n",
    "            \n",
    "getInvCount(n=5, arr = [2, 4, 1, 3, 5])"
   ]
  },
  {
   "cell_type": "markdown",
   "id": "4c8d756e-504e-445f-90e7-69345faa8969",
   "metadata": {},
   "source": [
    "Q8. Given three arrays sorted in non-decreasing order, print all common elements in these arrays.\n",
    "\n",
    "ar1[] = {1, 5, 10, 20, 40, 80} \n",
    "ar2[] = {6, 7, 20, 80, 100} \n",
    "ar3[] = {3, 4, 15, 20, 30, 70, 80, 120} \n",
    "Output: 20, 80"
   ]
  },
  {
   "cell_type": "code",
   "execution_count": 8,
   "id": "3f286c1b-8815-4119-a4c0-e3b2f4aeaaf9",
   "metadata": {},
   "outputs": [
    {
     "name": "stdout",
     "output_type": "stream",
     "text": [
      "20 80 "
     ]
    }
   ],
   "source": [
    "def findCommonElements(ar1, ar2, ar3):\n",
    "    n1 = len(ar1)\n",
    "    n2 = len(ar2)\n",
    "    n3 = len(ar3)\n",
    "    \n",
    "    i, j, k = 0, 0, 0\n",
    "    \n",
    "    while i<n1 and j<n2 and k<n3:\n",
    "        if ar1[i] == ar2[j] == ar3[k]:\n",
    "            print(ar1[i], end=' ')\n",
    "            \n",
    "            i+=1\n",
    "            j+=1\n",
    "            k+=1\n",
    "        \n",
    "        elif ar1[i]<ar2[j]:\n",
    "            i += 1\n",
    "        \n",
    "        elif ar2[j] < ar3[k]:\n",
    "            j += 1\n",
    "        \n",
    "        else:\n",
    "            k += 1\n",
    "            \n",
    "findCommonElements(ar1 = [1, 5, 10, 20, 40, 80], ar2 = [6, 7, 20, 80, 100], ar3 = [3, 4, 15, 20, 30, 70, 80, 120])"
   ]
  },
  {
   "cell_type": "code",
   "execution_count": null,
   "id": "9b1d0bf3-504c-436a-8403-cd45b2587579",
   "metadata": {},
   "outputs": [],
   "source": []
  }
 ],
 "metadata": {
  "kernelspec": {
   "display_name": "Python 3 (ipykernel)",
   "language": "python",
   "name": "python3"
  },
  "language_info": {
   "codemirror_mode": {
    "name": "ipython",
    "version": 3
   },
   "file_extension": ".py",
   "mimetype": "text/x-python",
   "name": "python",
   "nbconvert_exporter": "python",
   "pygments_lexer": "ipython3",
   "version": "3.10.9"
  }
 },
 "nbformat": 4,
 "nbformat_minor": 5
}
