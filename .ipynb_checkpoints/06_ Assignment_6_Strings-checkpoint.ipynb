{
 "cells": [
  {
   "cell_type": "code",
   "execution_count": 11,
   "id": "1343919d",
   "metadata": {},
   "outputs": [
    {
     "name": "stdout",
     "output_type": "stream",
     "text": [
      "[0, 4, 1, 3, 2]\n"
     ]
    }
   ],
   "source": [
    "#1\n",
    "def reconstructPermutation(s):\n",
    "    perm = []\n",
    "    start = 0\n",
    "    end = len(s)\n",
    "\n",
    "    for c in s:\n",
    "        if c == 'I':\n",
    "            perm.append(start)\n",
    "            start += 1\n",
    "        elif c == 'D':\n",
    "            perm.append(end)\n",
    "            end -= 1\n",
    "\n",
    "    perm.append(end)  \n",
    "\n",
    "    return perm\n",
    "\n",
    "print(reconstructPermutation(\"IDID\"))"
   ]
  },
  {
   "cell_type": "code",
   "execution_count": 13,
   "id": "2ca076d0",
   "metadata": {},
   "outputs": [
    {
     "name": "stdout",
     "output_type": "stream",
     "text": [
      "True\n"
     ]
    }
   ],
   "source": [
    "#2\n",
    "def searchMatrix(matrix, target):\n",
    "    rows = len(matrix)\n",
    "    cols = len(matrix[0])\n",
    "\n",
    "    low = 0\n",
    "    high = rows * cols - 1\n",
    "\n",
    "    while low <= high:\n",
    "        mid = (low + high) // 2\n",
    "        row = mid // cols\n",
    "        col = mid % cols\n",
    "\n",
    "        if matrix[row][col] == target:\n",
    "            return True\n",
    "        elif matrix[row][col] < target:\n",
    "            low = mid + 1\n",
    "        else:\n",
    "            high = mid - 1\n",
    "\n",
    "    return False\n",
    "print(searchMatrix([[1,3,5,7],[10,11,16,20],[23,30,34,60]],3))"
   ]
  },
  {
   "cell_type": "code",
   "execution_count": 15,
   "id": "839b1da5",
   "metadata": {},
   "outputs": [
    {
     "name": "stdout",
     "output_type": "stream",
     "text": [
      "False\n"
     ]
    }
   ],
   "source": [
    "def validMountainArray(arr):\n",
    "    if len(arr) < 3:\n",
    "        return False\n",
    "\n",
    "    n = len(arr)\n",
    "    left = 0\n",
    "    right = n - 1\n",
    "\n",
    "    while left < n - 1 and arr[left] < arr[left + 1]:\n",
    "        left += 1\n",
    "\n",
    "    while right > 0 and arr[right] < arr[right - 1]:\n",
    "        right -= 1\n",
    "\n",
    "    if left == 0 or right == n - 1:\n",
    "        return False\n",
    "\n",
    "    if left == right:\n",
    "        return False\n",
    "\n",
    "    return True\n",
    "print(validMountainArray([2,1]))"
   ]
  },
  {
   "cell_type": "code",
   "execution_count": 16,
   "id": "e0348673",
   "metadata": {},
   "outputs": [
    {
     "name": "stdout",
     "output_type": "stream",
     "text": [
      "2\n"
     ]
    }
   ],
   "source": [
    "#4\n",
    "def findMaxLength(nums):\n",
    "    count_dict = {0: -1}\n",
    "    count = 0\n",
    "    max_len = 0\n",
    "\n",
    "    for i, num in enumerate(nums):\n",
    "        if num == 0:\n",
    "            count -= 1\n",
    "        else:\n",
    "            count += 1\n",
    "\n",
    "        if count in count_dict:\n",
    "            curr_len = i - count_dict[count]\n",
    "            max_len = max(max_len, curr_len)\n",
    "        else:\n",
    "            count_dict[count] = i\n",
    "\n",
    "    return max_len\n",
    "print(findMaxLength([0,1]))"
   ]
  },
  {
   "cell_type": "code",
   "execution_count": 17,
   "id": "9b766c7f",
   "metadata": {},
   "outputs": [
    {
     "name": "stdout",
     "output_type": "stream",
     "text": [
      "40\n"
     ]
    }
   ],
   "source": [
    "#5\n",
    "def minProductSum(nums1, nums2):\n",
    "    nums1.sort()\n",
    "    nums2.sort()\n",
    "    n = len(nums1)\n",
    "    product_sum = 0\n",
    "\n",
    "    for i in range(n):\n",
    "        product_sum += nums1[i] * nums2[n - i - 1]\n",
    "\n",
    "    return product_sum\n",
    "print(minProductSum([5,3,4,2],[4,2,2,5]))"
   ]
  },
  {
   "cell_type": "code",
   "execution_count": 19,
   "id": "d3a4bc60",
   "metadata": {},
   "outputs": [
    {
     "name": "stdout",
     "output_type": "stream",
     "text": [
      "[]\n"
     ]
    }
   ],
   "source": [
    "#6\n",
    "def findOriginalArray(changed):\n",
    "    freq_map = {}\n",
    "    \n",
    "    for num in changed:\n",
    "        if num in freq_map:\n",
    "            freq_map[num] += 1\n",
    "        else:\n",
    "            freq_map[num] = 1\n",
    "\n",
    "    for num, count in freq_map.items():\n",
    "        if count != freq_map.get(num * 2, 0):\n",
    "            return []\n",
    "\n",
    "    original = []\n",
    "\n",
    "    for num, count in freq_map.items():\n",
    "        original.extend([num] * count)\n",
    "\n",
    "    return original\n",
    "\n",
    "print(findOriginalArray([1,3,4,2,6,8]))"
   ]
  },
  {
   "cell_type": "code",
   "execution_count": 7,
   "id": "d6d3e004",
   "metadata": {},
   "outputs": [
    {
     "name": "stdout",
     "output_type": "stream",
     "text": [
      "[[1, 2, 3], [8, 9, 4], [7, 6, 5]]\n"
     ]
    }
   ],
   "source": [
    "#7\n",
    "def generate_spiral_matrix(n):\n",
    "    matrix = [[0] * n for _ in range(n)]\n",
    "    num = 1\n",
    "    top_row, bottom_row = 0, n - 1\n",
    "    left_col, right_col = 0, n - 1\n",
    "\n",
    "    while num <= n * n:\n",
    "        # Traverse from left to right\n",
    "        for i in range(left_col, right_col + 1):\n",
    "            matrix[top_row][i] = num\n",
    "            num += 1\n",
    "        top_row += 1\n",
    "\n",
    "        # Traverse from top to bottom\n",
    "        for i in range(top_row, bottom_row + 1):\n",
    "            matrix[i][right_col] = num\n",
    "            num += 1\n",
    "        right_col -= 1\n",
    "\n",
    "        # Traverse from right to left\n",
    "        for i in range(right_col, left_col - 1, -1):\n",
    "            matrix[bottom_row][i] = num\n",
    "            num += 1\n",
    "        bottom_row -= 1\n",
    "\n",
    "        # Traverse from bottom to top\n",
    "        for i in range(bottom_row, top_row - 1, -1):\n",
    "            matrix[i][left_col] = num\n",
    "            num += 1\n",
    "        left_col += 1\n",
    "\n",
    "    return matrix\n",
    "\n",
    "n = 3\n",
    "spiral_matrix = generate_spiral_matrix(n)\n",
    "print(spiral_matrix)"
   ]
  },
  {
   "cell_type": "code",
   "execution_count": 8,
   "id": "6dc3ed46",
   "metadata": {},
   "outputs": [
    {
     "name": "stdout",
     "output_type": "stream",
     "text": [
      "[[7, 0, 0], [-7, 0, 3]]\n"
     ]
    }
   ],
   "source": [
    "#8\n",
    "def multiply_sparse_matrices(mat1, mat2):\n",
    "    m, k = len(mat1), len(mat1[0])\n",
    "    k2, n = len(mat2), len(mat2[0])\n",
    "\n",
    "    result = [[0] * n for _ in range(m)]\n",
    "\n",
    "    for i in range(m):\n",
    "        for j in range(n):\n",
    "            for x in range(k):\n",
    "                result[i][j] += mat1[i][x] * mat2[x][j]\n",
    "\n",
    "    return result\n",
    "\n",
    "mat1 = [[1, 0, 0], [-1, 0, 3]]\n",
    "mat2 = [[7, 0, 0], [0, 0, 0], [0, 0, 1]]\n",
    "\n",
    "result = multiply_sparse_matrices(mat1, mat2)\n",
    "print(result)"
   ]
  },
  {
   "cell_type": "code",
   "execution_count": null,
   "id": "a1e9ae81",
   "metadata": {},
   "outputs": [],
   "source": []
  }
 ],
 "metadata": {
  "kernelspec": {
   "display_name": "Python 3 (ipykernel)",
   "language": "python",
   "name": "python3"
  },
  "language_info": {
   "codemirror_mode": {
    "name": "ipython",
    "version": 3
   },
   "file_extension": ".py",
   "mimetype": "text/x-python",
   "name": "python",
   "nbconvert_exporter": "python",
   "pygments_lexer": "ipython3",
   "version": "3.10.9"
  }
 },
 "nbformat": 4,
 "nbformat_minor": 5
}
