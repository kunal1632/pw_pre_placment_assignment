{
 "cells": [
  {
   "cell_type": "markdown",
   "id": "9a585949",
   "metadata": {},
   "source": [
    "### 1. Write a Python program to reverse a string without using any built-in string reversal functions."
   ]
  },
  {
   "cell_type": "code",
   "execution_count": 41,
   "id": "e5d8a337",
   "metadata": {},
   "outputs": [
    {
     "name": "stdout",
     "output_type": "stream",
     "text": [
      "The original string is:  Kunal Goranshi\n",
      "The reversed string is:  ihsnaroG lanuK\n"
     ]
    }
   ],
   "source": [
    "def rev(s):\n",
    "    str = \"\"\n",
    "    for i in s:\n",
    "        str = i + str\n",
    "    return str\n",
    "s = \"Kunal Goranshi\"\n",
    "print(\"The original string is: \",s)\n",
    "print(\"The reversed string is: \",rev(s))"
   ]
  },
  {
   "cell_type": "markdown",
   "id": "5ef82011",
   "metadata": {},
   "source": [
    "### 2. Implement a function to check if a given string is a palindrome."
   ]
  },
  {
   "cell_type": "code",
   "execution_count": 42,
   "id": "1ccd38b4",
   "metadata": {},
   "outputs": [
    {
     "name": "stdout",
     "output_type": "stream",
     "text": [
      "True\n",
      "False\n"
     ]
    }
   ],
   "source": [
    "def isPalindrome(s):\n",
    "    str=\"\"\n",
    "    for i in s:\n",
    "        str = i + str\n",
    " \n",
    "    if (s==str):\n",
    "        return True\n",
    "    return False\n",
    "print(isPalindrome(\"madam\"))\n",
    "print(isPalindrome(\"chopper\"))"
   ]
  },
  {
   "cell_type": "markdown",
   "id": "bb459c21",
   "metadata": {},
   "source": [
    "### 3. Write a program to find the largest element in a given list."
   ]
  },
  {
   "cell_type": "code",
   "execution_count": 43,
   "id": "26a886a6",
   "metadata": {},
   "outputs": [],
   "source": [
    "list1 = [2,5,3,7,10,1,6,8]\n",
    "list1.sort()"
   ]
  },
  {
   "cell_type": "code",
   "execution_count": 44,
   "id": "b87df078",
   "metadata": {},
   "outputs": [
    {
     "data": {
      "text/plain": [
       "[1, 2, 3, 5, 6, 7, 8, 10]"
      ]
     },
     "execution_count": 44,
     "metadata": {},
     "output_type": "execute_result"
    }
   ],
   "source": [
    "list1"
   ]
  },
  {
   "cell_type": "code",
   "execution_count": 45,
   "id": "c168279f",
   "metadata": {},
   "outputs": [
    {
     "name": "stdout",
     "output_type": "stream",
     "text": [
      "The largest element in a given list is 10\n"
     ]
    }
   ],
   "source": [
    "print(\"The largest element in a given list is\",list1[-1])"
   ]
  },
  {
   "cell_type": "markdown",
   "id": "42a7c7b8",
   "metadata": {},
   "source": [
    "### 4. Implement a function to count the occurrence of each element in a list."
   ]
  },
  {
   "cell_type": "code",
   "execution_count": 46,
   "id": "2dcf8b1a",
   "metadata": {},
   "outputs": [],
   "source": [
    "def occured(lst,x):\n",
    "    count=0\n",
    "    for ele in lst:\n",
    "        if(ele==x):\n",
    "            count=count+1\n",
    "    return count"
   ]
  },
  {
   "cell_type": "code",
   "execution_count": 47,
   "id": "4a11a394",
   "metadata": {},
   "outputs": [
    {
     "name": "stdout",
     "output_type": "stream",
     "text": [
      "1 has occured 2 times\n"
     ]
    }
   ],
   "source": [
    "lst = [1,1,2,3,4,5,6,3,3]\n",
    "x = 1\n",
    "print(\"{} has occured {} times\".format(x,occured(lst,x)))"
   ]
  },
  {
   "cell_type": "markdown",
   "id": "b2389c1c",
   "metadata": {},
   "source": [
    "### 5. Write a Python program to find the second largest number in a list."
   ]
  },
  {
   "cell_type": "code",
   "execution_count": 48,
   "id": "dd272f0a",
   "metadata": {},
   "outputs": [],
   "source": [
    "def findlargest(arr):\n",
    "    seclargest = 0\n",
    "    largest = min(arr)\n",
    "    \n",
    "    for i in range(len(arr)):\n",
    "        if arr[i] > largest:\n",
    "            seclargest = largest\n",
    "            largest = arr[i]\n",
    "        else:\n",
    "            seclargest = max(seclargest,arr[i])\n",
    "            \n",
    "    return seclargest"
   ]
  },
  {
   "cell_type": "code",
   "execution_count": 49,
   "id": "708d1a0f",
   "metadata": {},
   "outputs": [
    {
     "name": "stdout",
     "output_type": "stream",
     "text": [
      "50\n"
     ]
    }
   ],
   "source": [
    "print(findlargest([10,30,12,20,50,70]))"
   ]
  },
  {
   "cell_type": "markdown",
   "id": "37d99a18",
   "metadata": {},
   "source": [
    "### 6. Implement a function to remove duplicate elements from a list."
   ]
  },
  {
   "cell_type": "code",
   "execution_count": 50,
   "id": "1e92bdf9",
   "metadata": {},
   "outputs": [],
   "source": [
    "def duplicate(lst):\n",
    "    final_list = []\n",
    "    for num in lst:\n",
    "        if num not in final_list:\n",
    "            final_list.append(num)\n",
    "    return final_list"
   ]
  },
  {
   "cell_type": "code",
   "execution_count": 51,
   "id": "70e72637",
   "metadata": {},
   "outputs": [
    {
     "data": {
      "text/plain": [
       "[2, 4, 10, 20, 5]"
      ]
     },
     "execution_count": 51,
     "metadata": {},
     "output_type": "execute_result"
    }
   ],
   "source": [
    "duplicate([2, 4, 10, 20, 5, 2, 20, 4])"
   ]
  },
  {
   "cell_type": "markdown",
   "id": "505c3225",
   "metadata": {},
   "source": [
    "### 7. Write a program to calculate the factorial of a given number."
   ]
  },
  {
   "cell_type": "code",
   "execution_count": 52,
   "id": "8069e660",
   "metadata": {},
   "outputs": [],
   "source": [
    "def fact(n):\n",
    "    if (n==1 or n==0):\n",
    "        return 1\n",
    "    else:\n",
    "        return n*fact(n-1)"
   ]
  },
  {
   "cell_type": "code",
   "execution_count": 53,
   "id": "8794f7f7",
   "metadata": {},
   "outputs": [
    {
     "data": {
      "text/plain": [
       "720"
      ]
     },
     "execution_count": 53,
     "metadata": {},
     "output_type": "execute_result"
    }
   ],
   "source": [
    "fact(6)"
   ]
  },
  {
   "cell_type": "code",
   "execution_count": 54,
   "id": "e4544f99",
   "metadata": {},
   "outputs": [
    {
     "data": {
      "text/plain": [
       "120"
      ]
     },
     "execution_count": 54,
     "metadata": {},
     "output_type": "execute_result"
    }
   ],
   "source": [
    "fact(5)"
   ]
  },
  {
   "cell_type": "markdown",
   "id": "67760e63",
   "metadata": {},
   "source": [
    "### 8. Implement a function to check if a given number is prime."
   ]
  },
  {
   "cell_type": "code",
   "execution_count": 55,
   "id": "6071eb5e",
   "metadata": {},
   "outputs": [
    {
     "name": "stdout",
     "output_type": "stream",
     "text": [
      "Enter a number: 7\n",
      "7 is a prime number\n"
     ]
    }
   ],
   "source": [
    "num = int(input(\"Enter a number: \"))\n",
    "flag = False\n",
    "if num > 1:\n",
    "    for i in range(2,num):\n",
    "        if (num % i) == 0:\n",
    "            flag = True\n",
    "            break\n",
    "if flag:\n",
    "    print(num,\"is not a prime number\")\n",
    "else:\n",
    "    print(num,\"is a prime number\")"
   ]
  },
  {
   "cell_type": "markdown",
   "id": "5ffb121b",
   "metadata": {},
   "source": [
    "### 9. Write a Python program to sort a list of integers in ascending order."
   ]
  },
  {
   "cell_type": "code",
   "execution_count": 56,
   "id": "4b9af213",
   "metadata": {},
   "outputs": [],
   "source": [
    "lst = [1,3,6,2,7,4,9]"
   ]
  },
  {
   "cell_type": "code",
   "execution_count": 57,
   "id": "314358a4",
   "metadata": {},
   "outputs": [],
   "source": [
    "lst.sort()"
   ]
  },
  {
   "cell_type": "code",
   "execution_count": 58,
   "id": "45908254",
   "metadata": {},
   "outputs": [
    {
     "data": {
      "text/plain": [
       "[1, 2, 3, 4, 6, 7, 9]"
      ]
     },
     "execution_count": 58,
     "metadata": {},
     "output_type": "execute_result"
    }
   ],
   "source": [
    "lst"
   ]
  },
  {
   "cell_type": "code",
   "execution_count": 59,
   "id": "9f7befbe",
   "metadata": {},
   "outputs": [
    {
     "data": {
      "text/plain": [
       "[1, 2, 3, 4, 6, 7, 9]"
      ]
     },
     "execution_count": 59,
     "metadata": {},
     "output_type": "execute_result"
    }
   ],
   "source": [
    "sorted(lst)"
   ]
  },
  {
   "cell_type": "markdown",
   "id": "10e06b47",
   "metadata": {},
   "source": [
    "### 10. Implement a function to find the sum of all numbers in a list."
   ]
  },
  {
   "cell_type": "code",
   "execution_count": 60,
   "id": "1480894f",
   "metadata": {},
   "outputs": [
    {
     "name": "stdout",
     "output_type": "stream",
     "text": [
      "Sum of all elements in the given list:  21\n"
     ]
    }
   ],
   "source": [
    "lst = [1,2,3,4,5,6]\n",
    "total = 0\n",
    "for i in range(len(lst)):\n",
    "    total = total + lst[i]\n",
    "    \n",
    "print(\"Sum of all elements in the given list: \",total)"
   ]
  },
  {
   "cell_type": "markdown",
   "id": "1a7db07a",
   "metadata": {},
   "source": [
    "### 11. Write a program to find the common elements between two lists."
   ]
  },
  {
   "cell_type": "code",
   "execution_count": 61,
   "id": "e297818f",
   "metadata": {},
   "outputs": [],
   "source": [
    "def common_ele(a,b):\n",
    "    result = [i for i in a if i in b]\n",
    "    return result"
   ]
  },
  {
   "cell_type": "code",
   "execution_count": 62,
   "id": "1c1d8b0f",
   "metadata": {},
   "outputs": [
    {
     "name": "stdout",
     "output_type": "stream",
     "text": [
      "Common elements in the two list are:  [4, 5]\n"
     ]
    }
   ],
   "source": [
    "a = [1,2,3,4,5]\n",
    "b = [5,4,67,8,9]\n",
    "print(\"Common elements in the two list are: \",common_ele(a,b))"
   ]
  },
  {
   "cell_type": "markdown",
   "id": "c1915707",
   "metadata": {},
   "source": [
    "### 12. Implement a function to check if a given string is an anagram of another string."
   ]
  },
  {
   "cell_type": "code",
   "execution_count": 63,
   "id": "46ffbc81",
   "metadata": {},
   "outputs": [],
   "source": [
    "from collections import Counter"
   ]
  },
  {
   "cell_type": "code",
   "execution_count": 64,
   "id": "3a2f0b4a",
   "metadata": {},
   "outputs": [],
   "source": [
    "def check(s1,s2):\n",
    "    if(Counter(s1)==Counter(s2)):\n",
    "        print(\"The strings are anagram\")\n",
    "    else:\n",
    "        print(\"The strings are not anagram\")"
   ]
  },
  {
   "cell_type": "code",
   "execution_count": 65,
   "id": "7d3a7042",
   "metadata": {},
   "outputs": [
    {
     "name": "stdout",
     "output_type": "stream",
     "text": [
      "The strings are anagram\n"
     ]
    }
   ],
   "source": [
    "s1=\"listen\"\n",
    "s2=\"silent\"\n",
    "check(s1,s2)"
   ]
  },
  {
   "cell_type": "code",
   "execution_count": 66,
   "id": "5d8b8aa4",
   "metadata": {},
   "outputs": [
    {
     "name": "stdout",
     "output_type": "stream",
     "text": [
      "The strings are not anagram\n"
     ]
    }
   ],
   "source": [
    "s1='bad'\n",
    "s2='dad'\n",
    "check(s1,s2)"
   ]
  },
  {
   "cell_type": "markdown",
   "id": "ed6be750",
   "metadata": {},
   "source": [
    "### 13. Write a Python program to generate all permutations of a given string."
   ]
  },
  {
   "cell_type": "code",
   "execution_count": 67,
   "id": "5dbbbe7b",
   "metadata": {},
   "outputs": [
    {
     "name": "stdout",
     "output_type": "stream",
     "text": [
      "['cat', 'cta', 'act', 'atc', 'tca', 'tac']\n"
     ]
    }
   ],
   "source": [
    "from itertools import permutations\n",
    "words = [''.join(p) for p in permutations('cat')]\n",
    "print(words)"
   ]
  },
  {
   "cell_type": "markdown",
   "id": "1dd67e21",
   "metadata": {},
   "source": [
    "### 14. Implement a function to calculate the Fibonacci sequence up to a given number of terms."
   ]
  },
  {
   "cell_type": "code",
   "execution_count": 68,
   "id": "928d7133",
   "metadata": {},
   "outputs": [
    {
     "name": "stdout",
     "output_type": "stream",
     "text": [
      "34\n"
     ]
    }
   ],
   "source": [
    "def Fibonacci(n):\n",
    "  \n",
    "    if n < 0:\n",
    "        print(\"Incorrect input\")\n",
    "  \n",
    "    elif n == 0:\n",
    "        return 0\n",
    "\n",
    "    elif n == 1 or n == 2:\n",
    "        return 1\n",
    "  \n",
    "    else:\n",
    "        return Fibonacci(n-1) + Fibonacci(n-2)\n",
    "  \n",
    "  \n",
    "print(Fibonacci(9))"
   ]
  },
  {
   "cell_type": "markdown",
   "id": "b82d0bb6",
   "metadata": {},
   "source": [
    "### 15. Write a program to find the median of a list of numbers."
   ]
  },
  {
   "cell_type": "code",
   "execution_count": 69,
   "id": "ce473836",
   "metadata": {},
   "outputs": [],
   "source": [
    "def median(num):\n",
    "    num.sort()\n",
    "    n = len(num)\n",
    "    m = n//2\n",
    "    if n%2==0:\n",
    "        return(num[m-1] + num[m])/2\n",
    "    else:\n",
    "        return num[m]"
   ]
  },
  {
   "cell_type": "code",
   "execution_count": 70,
   "id": "b35138af",
   "metadata": {},
   "outputs": [
    {
     "data": {
      "text/plain": [
       "3"
      ]
     },
     "execution_count": 70,
     "metadata": {},
     "output_type": "execute_result"
    }
   ],
   "source": [
    "num = [1,5,4,3,2]\n",
    "median(num)"
   ]
  },
  {
   "cell_type": "code",
   "execution_count": 71,
   "id": "9f8d22e0",
   "metadata": {},
   "outputs": [
    {
     "data": {
      "text/plain": [
       "5.5"
      ]
     },
     "execution_count": 71,
     "metadata": {},
     "output_type": "execute_result"
    }
   ],
   "source": [
    "num = [1,6,7,3,9,2,5,8]\n",
    "median(num)"
   ]
  },
  {
   "cell_type": "markdown",
   "id": "53a0f494",
   "metadata": {},
   "source": [
    "### 16. Implement a function to check if a given list is sorted in non-decreasing order."
   ]
  },
  {
   "cell_type": "code",
   "execution_count": 72,
   "id": "05e1524a",
   "metadata": {},
   "outputs": [],
   "source": [
    "def sortedarr(arr):\n",
    "    n = len(arr)\n",
    "    if (n==0 or n==1):\n",
    "        return True\n",
    "    for i in range(1,n):\n",
    "        if(arr[i-1] > arr[i]):\n",
    "            return False\n",
    "    return True"
   ]
  },
  {
   "cell_type": "code",
   "execution_count": 73,
   "id": "52990843",
   "metadata": {},
   "outputs": [
    {
     "data": {
      "text/plain": [
       "False"
      ]
     },
     "execution_count": 73,
     "metadata": {},
     "output_type": "execute_result"
    }
   ],
   "source": [
    "arr = [1,4,3,5,2,6]\n",
    "sortedarr(arr)"
   ]
  },
  {
   "cell_type": "code",
   "execution_count": 74,
   "id": "751836e3",
   "metadata": {},
   "outputs": [
    {
     "data": {
      "text/plain": [
       "True"
      ]
     },
     "execution_count": 74,
     "metadata": {},
     "output_type": "execute_result"
    }
   ],
   "source": [
    "arr = [1,2,3,4,7,8]\n",
    "sortedarr(arr)"
   ]
  },
  {
   "cell_type": "markdown",
   "id": "82f96105",
   "metadata": {},
   "source": [
    "### 17. Write a Python program to find the intersection of two lists."
   ]
  },
  {
   "cell_type": "code",
   "execution_count": 75,
   "id": "84b382c6",
   "metadata": {},
   "outputs": [],
   "source": [
    "def intersection(lst1,lst2):\n",
    "    lst3 = [value for value in lst1 if value in lst2]\n",
    "    return lst3"
   ]
  },
  {
   "cell_type": "code",
   "execution_count": 76,
   "id": "56e9d454",
   "metadata": {},
   "outputs": [
    {
     "data": {
      "text/plain": [
       "[5, 7, 8]"
      ]
     },
     "execution_count": 76,
     "metadata": {},
     "output_type": "execute_result"
    }
   ],
   "source": [
    "lst1 = [1,2,3,4,5,6,7,8]\n",
    "lst2 = [9,7,8,5,10,12,21]\n",
    "intersection(lst1,lst2)"
   ]
  },
  {
   "cell_type": "markdown",
   "id": "7db89714",
   "metadata": {},
   "source": [
    "### 18. Implement a function to find the maximum subarray sum in a given list."
   ]
  },
  {
   "cell_type": "code",
   "execution_count": 77,
   "id": "62c74b67",
   "metadata": {},
   "outputs": [],
   "source": [
    "def maxSubArraySum(arr,size):\n",
    "    \n",
    "    max_till_now = arr[0]\n",
    "    max_ending = 0\n",
    "    \n",
    "    for i in range(0, size):\n",
    "        max_ending = max_ending + arr[i]\n",
    "        if max_ending < 0:\n",
    "            max_ending = 0\n",
    "        \n",
    "        \n",
    "        elif (max_till_now < max_ending):\n",
    "            max_till_now = max_ending\n",
    "            \n",
    "    return max_till_now"
   ]
  },
  {
   "cell_type": "code",
   "execution_count": 78,
   "id": "4eeebb66",
   "metadata": {},
   "outputs": [
    {
     "name": "stdout",
     "output_type": "stream",
     "text": [
      "Maximum Sub Array Sum Is 6\n"
     ]
    }
   ],
   "source": [
    "arr = [-2, -3, 4, -1, -2, 5, -3]\n",
    "print(\"Maximum Sub Array Sum Is\" , maxSubArraySum(arr,len(arr)))"
   ]
  },
  {
   "cell_type": "markdown",
   "id": "5ed51b74",
   "metadata": {},
   "source": [
    "### 19. Write a program to remove all vowels from a given string."
   ]
  },
  {
   "cell_type": "code",
   "execution_count": 79,
   "id": "b0c2aa97",
   "metadata": {},
   "outputs": [],
   "source": [
    "def rem_vowel(string):\n",
    "    vowels = ['a','i','e','o','u']\n",
    "    result = [letter for letter in string if letter.lower() not in vowels]\n",
    "    result = \"\".join(result)\n",
    "    print(result)"
   ]
  },
  {
   "cell_type": "code",
   "execution_count": 80,
   "id": "216c90b9",
   "metadata": {},
   "outputs": [
    {
     "name": "stdout",
     "output_type": "stream",
     "text": [
      "Dt scnc crs frm nrn.\n"
     ]
    }
   ],
   "source": [
    "string = \"Data science course from ineuron.ai\"\n",
    "rem_vowel(string)"
   ]
  },
  {
   "cell_type": "markdown",
   "id": "097a1677",
   "metadata": {},
   "source": [
    "### 20. Implement a function to reverse the order of words in a given sentence."
   ]
  },
  {
   "cell_type": "code",
   "execution_count": 81,
   "id": "b8ea75a7",
   "metadata": {},
   "outputs": [],
   "source": [
    "def rev_string(string):\n",
    "    s = string.split()[::-1]\n",
    "    l = []\n",
    "    for i in s:\n",
    "        l.append(i)\n",
    "    print(\" \".join(l))"
   ]
  },
  {
   "cell_type": "code",
   "execution_count": 82,
   "id": "f8be468b",
   "metadata": {},
   "outputs": [
    {
     "name": "stdout",
     "output_type": "stream",
     "text": [
      "ineuron from Science Data\n"
     ]
    }
   ],
   "source": [
    "string = \"Data Science from ineuron\"\n",
    "rev_string(string)"
   ]
  },
  {
   "cell_type": "markdown",
   "id": "57c8e5d7",
   "metadata": {},
   "source": [
    "### 21. Write a Python program to check if two strings are anagrams of each other."
   ]
  },
  {
   "cell_type": "code",
   "execution_count": 83,
   "id": "fe99153f",
   "metadata": {},
   "outputs": [],
   "source": [
    "def chk_str(s1,s2):\n",
    "    if(sorted(s1)==sorted(s2)):\n",
    "        print(\"The strings are anagrams\")\n",
    "    else:\n",
    "        print(\"The strings are not anagrams\")"
   ]
  },
  {
   "cell_type": "code",
   "execution_count": 84,
   "id": "f1ab5b48",
   "metadata": {},
   "outputs": [
    {
     "name": "stdout",
     "output_type": "stream",
     "text": [
      "The strings are anagrams\n"
     ]
    }
   ],
   "source": [
    "s1 = 'silent'\n",
    "s2 = 'listen'\n",
    "chk_str(s1,s2)"
   ]
  },
  {
   "cell_type": "code",
   "execution_count": 85,
   "id": "dc73968e",
   "metadata": {},
   "outputs": [
    {
     "name": "stdout",
     "output_type": "stream",
     "text": [
      "The strings are not anagrams\n"
     ]
    }
   ],
   "source": [
    "s1 = 'boss'\n",
    "s2 = 'loss'\n",
    "chk_str(s1,s2)"
   ]
  },
  {
   "cell_type": "markdown",
   "id": "1e361f24",
   "metadata": {},
   "source": [
    "### 22. Implement a function to find the first non-repeating character in a string."
   ]
  },
  {
   "cell_type": "code",
   "execution_count": 86,
   "id": "16cccc53",
   "metadata": {},
   "outputs": [],
   "source": [
    "from collections import Counter"
   ]
  },
  {
   "cell_type": "code",
   "execution_count": 87,
   "id": "4acf7dc7",
   "metadata": {},
   "outputs": [],
   "source": [
    "def repeatchar(mystr):\n",
    "    freq = Counter(mystr)\n",
    "    for i in mystr:\n",
    "        if(freq[i]==1):\n",
    "            print(i)\n",
    "            break"
   ]
  },
  {
   "cell_type": "code",
   "execution_count": 88,
   "id": "8d4680ff",
   "metadata": {},
   "outputs": [
    {
     "name": "stdout",
     "output_type": "stream",
     "text": [
      "n\n"
     ]
    }
   ],
   "source": [
    "mystr = \"one for the team\"\n",
    "repeatchar(mystr)"
   ]
  },
  {
   "cell_type": "markdown",
   "id": "8385a0ec",
   "metadata": {},
   "source": [
    "### 23. Write a program to find the prime factors of a given number."
   ]
  },
  {
   "cell_type": "code",
   "execution_count": 89,
   "id": "6ded6c98",
   "metadata": {},
   "outputs": [],
   "source": [
    "def get_prime_factors(n):\n",
    "    i = 2\n",
    "    prime_factors = []\n",
    "    while i*i <= n:\n",
    "        if n%i == 0:\n",
    "            prime_factors.append(i)\n",
    "            n //= i\n",
    "        else:\n",
    "            i += 1\n",
    "    \n",
    "    if n>1:\n",
    "        prime_factors.append(n)\n",
    "    \n",
    "    return prime_factors"
   ]
  },
  {
   "cell_type": "code",
   "execution_count": 90,
   "id": "26aea47c",
   "metadata": {},
   "outputs": [
    {
     "data": {
      "text/plain": [
       "[5, 5, 13]"
      ]
     },
     "execution_count": 90,
     "metadata": {},
     "output_type": "execute_result"
    }
   ],
   "source": [
    "n = 325\n",
    "get_prime_factors(n)"
   ]
  },
  {
   "cell_type": "markdown",
   "id": "e3173647",
   "metadata": {},
   "source": [
    "### 24. Implement a function to check if a given number is a power of two."
   ]
  },
  {
   "cell_type": "code",
   "execution_count": 91,
   "id": "99a734c4",
   "metadata": {},
   "outputs": [],
   "source": [
    "def isPowerOfTwo(n):\n",
    "    if (n == 0):\n",
    "        return False\n",
    "    while (n != 1):\n",
    "            if (n % 2 != 0):\n",
    "                return False\n",
    "            n = n // 2\n",
    "             \n",
    "    return True"
   ]
  },
  {
   "cell_type": "code",
   "execution_count": 92,
   "id": "e2e70e98",
   "metadata": {},
   "outputs": [
    {
     "data": {
      "text/plain": [
       "True"
      ]
     },
     "execution_count": 92,
     "metadata": {},
     "output_type": "execute_result"
    }
   ],
   "source": [
    "isPowerOfTwo(64)"
   ]
  },
  {
   "cell_type": "code",
   "execution_count": 93,
   "id": "9d9d7c9e",
   "metadata": {},
   "outputs": [
    {
     "data": {
      "text/plain": [
       "False"
      ]
     },
     "execution_count": 93,
     "metadata": {},
     "output_type": "execute_result"
    }
   ],
   "source": [
    "isPowerOfTwo(61)"
   ]
  },
  {
   "cell_type": "markdown",
   "id": "0c13c31f",
   "metadata": {},
   "source": [
    "### 25. Write a Python program to merge two sorted lists into a single sorted list."
   ]
  },
  {
   "cell_type": "code",
   "execution_count": 94,
   "id": "66b37911",
   "metadata": {},
   "outputs": [
    {
     "name": "stdout",
     "output_type": "stream",
     "text": [
      "[1, 2, 3, 4, 5, 6, 7, 8, 9, 10, 11]\n"
     ]
    }
   ],
   "source": [
    "lst1 = [2,4,6,8,10]\n",
    "lst2 = [1,3,5,7,9,11]\n",
    "\n",
    "lst1.extend(lst2)\n",
    "lst1.sort()\n",
    "\n",
    "print(lst1)"
   ]
  },
  {
   "cell_type": "markdown",
   "id": "50c67dbb",
   "metadata": {},
   "source": [
    "### 26. Implement a function to find the mode of a list of numbers."
   ]
  },
  {
   "cell_type": "code",
   "execution_count": 95,
   "id": "6c865124",
   "metadata": {},
   "outputs": [],
   "source": [
    "def mode(ls):\n",
    "    counts = {}\n",
    "    for item in ls:\n",
    "        if item in counts:\n",
    "            counts[item] += 1\n",
    "        else:\n",
    "            counts[item] = 1\n",
    "    return [key for key in counts.keys() if counts[key] == max(counts.values())]"
   ]
  },
  {
   "cell_type": "code",
   "execution_count": 96,
   "id": "d7efb7f0",
   "metadata": {},
   "outputs": [
    {
     "data": {
      "text/plain": [
       "[3]"
      ]
     },
     "execution_count": 96,
     "metadata": {},
     "output_type": "execute_result"
    }
   ],
   "source": [
    "mode([1,2,3,3,3,4,4,5,6,6])"
   ]
  },
  {
   "cell_type": "markdown",
   "id": "4d4e3a15",
   "metadata": {},
   "source": [
    "### 27. Write a program to find the greatest common divisor (GCD) of two numbers."
   ]
  },
  {
   "cell_type": "code",
   "execution_count": 97,
   "id": "18001030",
   "metadata": {},
   "outputs": [],
   "source": [
    "def gcd(x,y):\n",
    "    if x > y:\n",
    "        z = x\n",
    "    else:\n",
    "        z = y\n",
    "    for i in range(1,z+1):\n",
    "        if ((x%i==0) and (y%i==0)):\n",
    "            gcd = i\n",
    "    print(f'The GCD of {x},{y} is {gcd}')"
   ]
  },
  {
   "cell_type": "code",
   "execution_count": 98,
   "id": "9a66da6e",
   "metadata": {},
   "outputs": [
    {
     "name": "stdout",
     "output_type": "stream",
     "text": [
      "The GCD of 20,15 is 5\n"
     ]
    }
   ],
   "source": [
    "gcd(20,15)"
   ]
  },
  {
   "cell_type": "code",
   "execution_count": 99,
   "id": "b1a963fa",
   "metadata": {},
   "outputs": [
    {
     "name": "stdout",
     "output_type": "stream",
     "text": [
      "The GCD of 20,10 is 10\n"
     ]
    }
   ],
   "source": [
    "gcd(20,10)"
   ]
  },
  {
   "cell_type": "code",
   "execution_count": 100,
   "id": "5cd16483",
   "metadata": {},
   "outputs": [
    {
     "name": "stdout",
     "output_type": "stream",
     "text": [
      "The GCD of 3,8 is 1\n"
     ]
    }
   ],
   "source": [
    "gcd(3,8)"
   ]
  },
  {
   "cell_type": "markdown",
   "id": "369c57fb",
   "metadata": {},
   "source": [
    "### 28. Implement a function to calculate the square root of a given number."
   ]
  },
  {
   "cell_type": "code",
   "execution_count": 101,
   "id": "2daa5a08",
   "metadata": {},
   "outputs": [],
   "source": [
    "def countSquares(x):\n",
    "    sqrt = x**0.5\n",
    "    result = int(sqrt)\n",
    "    return result"
   ]
  },
  {
   "cell_type": "code",
   "execution_count": 102,
   "id": "1d90be1b",
   "metadata": {},
   "outputs": [
    {
     "data": {
      "text/plain": [
       "3"
      ]
     },
     "execution_count": 102,
     "metadata": {},
     "output_type": "execute_result"
    }
   ],
   "source": [
    "countSquares(9)"
   ]
  },
  {
   "cell_type": "code",
   "execution_count": 103,
   "id": "3dbf83cf",
   "metadata": {},
   "outputs": [
    {
     "data": {
      "text/plain": [
       "5"
      ]
     },
     "execution_count": 103,
     "metadata": {},
     "output_type": "execute_result"
    }
   ],
   "source": [
    "countSquares(25)"
   ]
  },
  {
   "cell_type": "code",
   "execution_count": 104,
   "id": "3990fc30",
   "metadata": {},
   "outputs": [
    {
     "data": {
      "text/plain": [
       "3"
      ]
     },
     "execution_count": 104,
     "metadata": {},
     "output_type": "execute_result"
    }
   ],
   "source": [
    "countSquares(12)"
   ]
  },
  {
   "cell_type": "markdown",
   "id": "65dbabc7",
   "metadata": {},
   "source": [
    "### 29. Write a Python program to check if a given string is a valid palindrome ignoring non-alphanumeric characters."
   ]
  },
  {
   "cell_type": "code",
   "execution_count": 105,
   "id": "1151d63d",
   "metadata": {},
   "outputs": [],
   "source": [
    "class Solution:\n",
    "    def isPalindrome(self, s: str) -> bool:\n",
    "        i, j = 0, len(s) - 1\n",
    "        while i < j:\n",
    "            if not s[i].isalnum():\n",
    "                i += 1\n",
    "            elif not s[j].isalnum():\n",
    "                j -= 1\n",
    "            elif s[i].lower() != s[j].lower():\n",
    "                return False\n",
    "            else:\n",
    "                i, j = i + 1, j - 1\n",
    "        return True"
   ]
  },
  {
   "cell_type": "code",
   "execution_count": 106,
   "id": "63609301",
   "metadata": {},
   "outputs": [],
   "source": [
    "pal = Solution()"
   ]
  },
  {
   "cell_type": "code",
   "execution_count": 107,
   "id": "e89e10bd",
   "metadata": {},
   "outputs": [
    {
     "data": {
      "text/plain": [
       "True"
      ]
     },
     "execution_count": 107,
     "metadata": {},
     "output_type": "execute_result"
    }
   ],
   "source": [
    "pal.isPalindrome(\"A man, a plan, a canal: Panama\")"
   ]
  },
  {
   "cell_type": "code",
   "execution_count": 108,
   "id": "2ac9ca6d",
   "metadata": {},
   "outputs": [
    {
     "data": {
      "text/plain": [
       "True"
      ]
     },
     "execution_count": 108,
     "metadata": {},
     "output_type": "execute_result"
    }
   ],
   "source": [
    "pal.isPalindrome(\"Racecar\")"
   ]
  },
  {
   "cell_type": "code",
   "execution_count": 109,
   "id": "e0734132",
   "metadata": {},
   "outputs": [
    {
     "data": {
      "text/plain": [
       "False"
      ]
     },
     "execution_count": 109,
     "metadata": {},
     "output_type": "execute_result"
    }
   ],
   "source": [
    "pal.isPalindrome(\"Race a car\")"
   ]
  },
  {
   "cell_type": "markdown",
   "id": "ffc47bd3",
   "metadata": {},
   "source": [
    "### 30. Implement a function to find the minimum element in a rotated sorted list."
   ]
  },
  {
   "cell_type": "code",
   "execution_count": 110,
   "id": "064d6120",
   "metadata": {},
   "outputs": [],
   "source": [
    "def minimum(arr):\n",
    "    min_ele = arr[0]\n",
    "    \n",
    "    for i in range(len(arr)):\n",
    "        if arr[i] < min_ele:\n",
    "            min_ele = arr[i]\n",
    "    return min_ele"
   ]
  },
  {
   "cell_type": "code",
   "execution_count": 111,
   "id": "43c4e415",
   "metadata": {},
   "outputs": [
    {
     "name": "stdout",
     "output_type": "stream",
     "text": [
      "2\n"
     ]
    }
   ],
   "source": [
    "arr = [9,5,7,4,2,3,6,8]\n",
    "print(minimum(arr))"
   ]
  },
  {
   "cell_type": "markdown",
   "id": "c9968308",
   "metadata": {},
   "source": [
    "### 31. Write a program to find the sum of all even numbers in a list."
   ]
  },
  {
   "cell_type": "code",
   "execution_count": 112,
   "id": "9e393aee",
   "metadata": {},
   "outputs": [],
   "source": [
    "def sum_even(lst):\n",
    "    sum = 0\n",
    "    for i in lst:\n",
    "        if (i % 2 == 0):\n",
    "            sum = sum + i\n",
    "    return sum"
   ]
  },
  {
   "cell_type": "code",
   "execution_count": 113,
   "id": "cc10843d",
   "metadata": {},
   "outputs": [
    {
     "data": {
      "text/plain": [
       "30"
      ]
     },
     "execution_count": 113,
     "metadata": {},
     "output_type": "execute_result"
    }
   ],
   "source": [
    "lst = [1,2,3,4,5,6,7,8,10]\n",
    "sum_even(lst)"
   ]
  },
  {
   "cell_type": "markdown",
   "id": "7a6f223a",
   "metadata": {},
   "source": [
    "### 32. Implement a function to calculate the power of a number using recursion."
   ]
  },
  {
   "cell_type": "code",
   "execution_count": 114,
   "id": "5f7fe499",
   "metadata": {},
   "outputs": [],
   "source": [
    "def power(N,P):\n",
    "    if P == 0:\n",
    "        return 1\n",
    "    else:\n",
    "        return N * power(N, P-1)"
   ]
  },
  {
   "cell_type": "code",
   "execution_count": 115,
   "id": "b9f5c0de",
   "metadata": {},
   "outputs": [
    {
     "data": {
      "text/plain": [
       "32"
      ]
     },
     "execution_count": 115,
     "metadata": {},
     "output_type": "execute_result"
    }
   ],
   "source": [
    "power(2,5)"
   ]
  },
  {
   "cell_type": "code",
   "execution_count": 116,
   "id": "737f9673",
   "metadata": {},
   "outputs": [
    {
     "data": {
      "text/plain": [
       "27"
      ]
     },
     "execution_count": 116,
     "metadata": {},
     "output_type": "execute_result"
    }
   ],
   "source": [
    "power(3,3)"
   ]
  },
  {
   "cell_type": "code",
   "execution_count": 117,
   "id": "2e14ff46",
   "metadata": {},
   "outputs": [
    {
     "data": {
      "text/plain": [
       "1000000"
      ]
     },
     "execution_count": 117,
     "metadata": {},
     "output_type": "execute_result"
    }
   ],
   "source": [
    "power(1000,2)"
   ]
  },
  {
   "cell_type": "markdown",
   "id": "07f88969",
   "metadata": {},
   "source": [
    "### 33. Write a Python program to remove duplicates from a list while preserving the order."
   ]
  },
  {
   "cell_type": "code",
   "execution_count": 118,
   "id": "bc8e527c",
   "metadata": {},
   "outputs": [],
   "source": [
    "def duplicate(lst):\n",
    "    result=[]\n",
    "    for i in lst:\n",
    "        if i not in result:\n",
    "            result.append(i)\n",
    "    return result"
   ]
  },
  {
   "cell_type": "code",
   "execution_count": 119,
   "id": "50b319cd",
   "metadata": {},
   "outputs": [
    {
     "name": "stdout",
     "output_type": "stream",
     "text": [
      "The list is: [1, 2, 3, 4, 3, 2, 4, 5, 6, 6, 7, 8, 8, 4, 2]\n",
      "The list after removing duplicates: [1, 2, 3, 4, 5, 6, 7, 8]\n"
     ]
    }
   ],
   "source": [
    "lst = [1,2,3,4,3,2,4,5,6,6,7,8,8,4,2]\n",
    "print(\"The list is: \" + str(lst))\n",
    "print(\"The list after removing duplicates: \" + str(duplicate(lst)))"
   ]
  },
  {
   "cell_type": "markdown",
   "id": "755d2cb4",
   "metadata": {},
   "source": [
    "### 34. Implement a function to find the longest common prefix among a list of strings."
   ]
  },
  {
   "cell_type": "code",
   "execution_count": 120,
   "id": "f3a77097",
   "metadata": {},
   "outputs": [],
   "source": [
    "def longest_Common_Prefix(str1):\n",
    "    \n",
    "    if not str1:\n",
    "        return \"\"\n",
    "\n",
    "    short_str = min(str1,key=len)\n",
    "\n",
    "    for i, char in enumerate(short_str):\n",
    "        for other in str1:\n",
    "            if other[i] != char:\n",
    "                return short_str[:i]\n",
    "\n",
    "    return short_str"
   ]
  },
  {
   "cell_type": "code",
   "execution_count": 121,
   "id": "1077a3bd",
   "metadata": {},
   "outputs": [
    {
     "data": {
      "text/plain": [
       "'P'"
      ]
     },
     "execution_count": 121,
     "metadata": {},
     "output_type": "execute_result"
    }
   ],
   "source": [
    "longest_Common_Prefix([\"Python\",\"PHP\", \"Perl\"])"
   ]
  },
  {
   "cell_type": "code",
   "execution_count": 122,
   "id": "5dcc7c1d",
   "metadata": {},
   "outputs": [
    {
     "data": {
      "text/plain": [
       "'car'"
      ]
     },
     "execution_count": 122,
     "metadata": {},
     "output_type": "execute_result"
    }
   ],
   "source": [
    "longest_Common_Prefix(['car','carbon','carbonated'])"
   ]
  },
  {
   "cell_type": "markdown",
   "id": "fb4ed722",
   "metadata": {},
   "source": [
    "### 35. Write a program to check if a given number is a perfect square."
   ]
  },
  {
   "cell_type": "code",
   "execution_count": 123,
   "id": "6904caa7",
   "metadata": {},
   "outputs": [
    {
     "name": "stdout",
     "output_type": "stream",
     "text": [
      "Enter the number: 1225\n",
      "Yes, the number is a perfect square\n"
     ]
    }
   ],
   "source": [
    "n = int(input(\"Enter the number: \"))\n",
    "for i in range(n+1):\n",
    "    if i**2 == n:\n",
    "        print(\"Yes, the number is a perfect square\")\n",
    "        break\n",
    "else:\n",
    "    print(\"No, the number is not a perfect square\")"
   ]
  },
  {
   "cell_type": "markdown",
   "id": "db989351",
   "metadata": {},
   "source": [
    "### 36. Implement a function to calculate the product of all elements in a list."
   ]
  },
  {
   "cell_type": "code",
   "execution_count": 124,
   "id": "ea45ed2d",
   "metadata": {},
   "outputs": [],
   "source": [
    "def product(lst):\n",
    "    result = 1\n",
    "    for i in lst:\n",
    "        result = result * i\n",
    "    return result"
   ]
  },
  {
   "cell_type": "code",
   "execution_count": 125,
   "id": "a860167f",
   "metadata": {},
   "outputs": [
    {
     "data": {
      "text/plain": [
       "24"
      ]
     },
     "execution_count": 125,
     "metadata": {},
     "output_type": "execute_result"
    }
   ],
   "source": [
    "lst1 = [1,2,3,4]\n",
    "product(lst1)"
   ]
  },
  {
   "cell_type": "code",
   "execution_count": 126,
   "id": "41731dc3",
   "metadata": {},
   "outputs": [
    {
     "data": {
      "text/plain": [
       "6000"
      ]
     },
     "execution_count": 126,
     "metadata": {},
     "output_type": "execute_result"
    }
   ],
   "source": [
    "lst2 = [10,20,30]\n",
    "product(lst2)"
   ]
  },
  {
   "cell_type": "markdown",
   "id": "200fcbbb",
   "metadata": {},
   "source": [
    "### 37. Write a Python program to reverse the order of words in a sentence while preserving the word order."
   ]
  },
  {
   "cell_type": "code",
   "execution_count": 127,
   "id": "08fdd69e",
   "metadata": {},
   "outputs": [],
   "source": [
    "def reverse_order(string):\n",
    "    s = string.split()[::-1]\n",
    "    l = []\n",
    "    for i in s:\n",
    "        l.append(i)\n",
    "    print(\" \".join(l))"
   ]
  },
  {
   "cell_type": "code",
   "execution_count": 128,
   "id": "53efd13c",
   "metadata": {},
   "outputs": [
    {
     "name": "stdout",
     "output_type": "stream",
     "text": [
      "Sir! Gates the Hold\n"
     ]
    }
   ],
   "source": [
    "reverse_order(\"Hold the Gates Sir!\")"
   ]
  },
  {
   "cell_type": "markdown",
   "id": "cc70b30c",
   "metadata": {},
   "source": [
    "### 38. Implement a function to find the missing number in a given list of consecutive numbers."
   ]
  },
  {
   "cell_type": "code",
   "execution_count": 129,
   "id": "d89b2696",
   "metadata": {},
   "outputs": [],
   "source": [
    "def missing_num(n):\n",
    "    numbers = set(n)\n",
    "    result = []\n",
    "    for i in range(1,n[-1]):\n",
    "        if i not in numbers:\n",
    "            result.append(i)\n",
    "    return result"
   ]
  },
  {
   "cell_type": "code",
   "execution_count": 130,
   "id": "82429c92",
   "metadata": {},
   "outputs": [
    {
     "name": "stdout",
     "output_type": "stream",
     "text": [
      "[2, 4, 6, 8, 12]\n"
     ]
    }
   ],
   "source": [
    "lst = [1,3,5,7,9,10,11,13]\n",
    "print(missing_num(lst))"
   ]
  },
  {
   "cell_type": "markdown",
   "id": "5b46e9fa",
   "metadata": {},
   "source": [
    "### 39. Write a program to find the sum of digits of a given number."
   ]
  },
  {
   "cell_type": "code",
   "execution_count": 131,
   "id": "49b32b91",
   "metadata": {},
   "outputs": [],
   "source": [
    "def sod(n):\n",
    "    sum = 0\n",
    "    while (n!=0):\n",
    "        sum = sum + (n%10)\n",
    "        n = n//10\n",
    "    return sum"
   ]
  },
  {
   "cell_type": "code",
   "execution_count": 132,
   "id": "d4f15224",
   "metadata": {},
   "outputs": [
    {
     "name": "stdout",
     "output_type": "stream",
     "text": [
      "21\n"
     ]
    }
   ],
   "source": [
    "n = 123456\n",
    "print(sod(n))"
   ]
  },
  {
   "cell_type": "markdown",
   "id": "56514fa6",
   "metadata": {},
   "source": [
    "### 40. Implement a function to check if a given string is a valid palindrome considering case sensitivity."
   ]
  },
  {
   "cell_type": "code",
   "execution_count": 133,
   "id": "f06afa90",
   "metadata": {},
   "outputs": [],
   "source": [
    "def checkPalindrome(string):\n",
    "    s = string.lower()\n",
    "    str = \"\"\n",
    "    for i in s:\n",
    "        str = i + str\n",
    "\n",
    "    if (s==str):\n",
    "        return True\n",
    "    return False"
   ]
  },
  {
   "cell_type": "code",
   "execution_count": 134,
   "id": "4e45720b",
   "metadata": {},
   "outputs": [
    {
     "data": {
      "text/plain": [
       "True"
      ]
     },
     "execution_count": 134,
     "metadata": {},
     "output_type": "execute_result"
    }
   ],
   "source": [
    "s = \"DAd\"\n",
    "checkPalindrome(s)"
   ]
  },
  {
   "cell_type": "markdown",
   "id": "0f8cd24d",
   "metadata": {},
   "source": [
    "### 41. Write a Python program to find the smallest missing positive integer in a list."
   ]
  },
  {
   "cell_type": "code",
   "execution_count": 135,
   "id": "a53ffd12",
   "metadata": {},
   "outputs": [],
   "source": [
    "def findNum(arr, n):\n",
    "    for i in range(1, n+1):  \n",
    "        flag = False\n",
    "\n",
    "        for j in range(n-1): \n",
    "            if arr[j] == i:\n",
    "                flag = True\n",
    "                break\n",
    "        if flag == False:\n",
    "            return i"
   ]
  },
  {
   "cell_type": "code",
   "execution_count": 136,
   "id": "cb5d347c",
   "metadata": {},
   "outputs": [
    {
     "name": "stdout",
     "output_type": "stream",
     "text": [
      "The smallest positive missing number in the array is: 1\n"
     ]
    }
   ],
   "source": [
    "arr = [-10,4,-4,2,15,13,6,8,-1]\n",
    "length = len(arr)\n",
    "res = findNum(arr, length)\n",
    "print(\"The smallest positive missing number in the array is:\",res)"
   ]
  },
  {
   "cell_type": "code",
   "execution_count": 137,
   "id": "aed6055c",
   "metadata": {},
   "outputs": [
    {
     "name": "stdout",
     "output_type": "stream",
     "text": [
      "The smallest positive missing number in the array is: 3\n"
     ]
    }
   ],
   "source": [
    "arr1 = [-2, 2, 1, -3, 2, 10, 0]\n",
    "length = len(arr1)\n",
    "res = findNum(arr1, length)\n",
    "print(\"The smallest positive missing number in the array is:\",res)"
   ]
  },
  {
   "cell_type": "markdown",
   "id": "42b65beb",
   "metadata": {},
   "source": [
    "### 42. Implement a function to find the longest palindrome substring in a given string."
   ]
  },
  {
   "cell_type": "code",
   "execution_count": 138,
   "id": "e10e3183",
   "metadata": {},
   "outputs": [],
   "source": [
    "def find_longest_palindrome(s):\n",
    "    longest = ''\n",
    "    n = len(s)\n",
    "    for i in range(n):\n",
    "        for j in range(i+1,n+1):\n",
    "            word = s[i:j]\n",
    "            if word == word[::-1]:\n",
    "                if len(word)>len(longest):\n",
    "                    longest = word          \n",
    "    return longest"
   ]
  },
  {
   "cell_type": "code",
   "execution_count": 139,
   "id": "2f9dd522",
   "metadata": {},
   "outputs": [
    {
     "name": "stdout",
     "output_type": "stream",
     "text": [
      "oco\n"
     ]
    }
   ],
   "source": [
    "print(find_longest_palindrome(\"locomotive\"))"
   ]
  },
  {
   "cell_type": "code",
   "execution_count": 140,
   "id": "91d0beb2",
   "metadata": {},
   "outputs": [
    {
     "name": "stdout",
     "output_type": "stream",
     "text": [
      "madam\n"
     ]
    }
   ],
   "source": [
    "print(find_longest_palindrome(\"madamanna\"))"
   ]
  },
  {
   "cell_type": "markdown",
   "id": "ba8d46a2",
   "metadata": {},
   "source": [
    "### 43. Write a program to find the number of occurrences of a given element in a list."
   ]
  },
  {
   "cell_type": "code",
   "execution_count": 141,
   "id": "700ed3af",
   "metadata": {},
   "outputs": [],
   "source": [
    "def occur(lst,x):\n",
    "    count = 0\n",
    "    for i in lst:\n",
    "        if (i==x):\n",
    "            count+=1\n",
    "    return count"
   ]
  },
  {
   "cell_type": "code",
   "execution_count": 142,
   "id": "190051e4",
   "metadata": {},
   "outputs": [
    {
     "name": "stdout",
     "output_type": "stream",
     "text": [
      "5 has occured 2 times\n"
     ]
    }
   ],
   "source": [
    "lst = [1,2,3,4,5,6,4,5,2,8,4]\n",
    "x = 5\n",
    "print('{} has occured {} times'.format(x,occur(lst,x)))"
   ]
  },
  {
   "cell_type": "markdown",
   "id": "10eeb2c2",
   "metadata": {},
   "source": [
    "### 44. Implement a function to check if a given number is a perfect number."
   ]
  },
  {
   "cell_type": "code",
   "execution_count": 143,
   "id": "be3ee61f",
   "metadata": {},
   "outputs": [
    {
     "name": "stdout",
     "output_type": "stream",
     "text": [
      "Enter the number: 10\n",
      "The entered number is not a perfect number\n"
     ]
    }
   ],
   "source": [
    "num = int(input(\"Enter the number: \"))\n",
    "sum_x = 0\n",
    "for i in range(1,num):\n",
    "    if (num%i==0):\n",
    "        sum_x = sum_x + i\n",
    "if (sum_x==num):\n",
    "    print(\"The entered number is a perfect number\")\n",
    "else:\n",
    "    print(\"The entered number is not a perfect number\")"
   ]
  },
  {
   "cell_type": "markdown",
   "id": "d14ff39d",
   "metadata": {},
   "source": [
    "### 45. Write a Python program to remove all duplicates from a string."
   ]
  },
  {
   "cell_type": "code",
   "execution_count": 144,
   "id": "cbe0047a",
   "metadata": {},
   "outputs": [],
   "source": [
    "def remove_duplicates(s):\n",
    "    #s = string.split()\n",
    "    temp = []\n",
    "    for i in s:\n",
    "        if i not in temp:\n",
    "            temp.append(i)\n",
    "    print(\" \".join(temp))"
   ]
  },
  {
   "cell_type": "code",
   "execution_count": 145,
   "id": "d2b93332",
   "metadata": {},
   "outputs": [
    {
     "name": "stdout",
     "output_type": "stream",
     "text": [
      "W e l c o m   t h n w b a f D S i , E j y !\n"
     ]
    }
   ],
   "source": [
    "string = \"Welcome to the new batch of Data Science, Enjoy!!!\"\n",
    "remove_duplicates(string)"
   ]
  },
  {
   "cell_type": "markdown",
   "id": "98eea27f",
   "metadata": {},
   "source": [
    "### 46. Implement a function to find the first missing positive"
   ]
  },
  {
   "cell_type": "code",
   "execution_count": 146,
   "id": "4195958c",
   "metadata": {},
   "outputs": [],
   "source": [
    "def first_missing_positive(arr,n):\n",
    "    for i in range(1,n+2):\n",
    "        missing_flag = True\n",
    "        for j in range(n):\n",
    "            if arr[j] == i:\n",
    "                missing_flag = False\n",
    "                break\n",
    "        if missing_flag:\n",
    "            return i"
   ]
  },
  {
   "cell_type": "code",
   "execution_count": 147,
   "id": "f82b306a",
   "metadata": {},
   "outputs": [
    {
     "name": "stdout",
     "output_type": "stream",
     "text": [
      "The first positive missing number in the array is: 3\n"
     ]
    }
   ],
   "source": [
    "arr = [2,-9,5,11,1,-10,7,8]\n",
    "length = len(arr)\n",
    "res = first_missing_positive(arr, length)\n",
    "print(\"The first positive missing number in the array is:\",res)"
   ]
  }
 ],
 "metadata": {
  "kernelspec": {
   "display_name": "Python 3 (ipykernel)",
   "language": "python",
   "name": "python3"
  },
  "language_info": {
   "codemirror_mode": {
    "name": "ipython",
    "version": 3
   },
   "file_extension": ".py",
   "mimetype": "text/x-python",
   "name": "python",
   "nbconvert_exporter": "python",
   "pygments_lexer": "ipython3",
   "version": "3.10.9"
  }
 },
 "nbformat": 4,
 "nbformat_minor": 5
}
