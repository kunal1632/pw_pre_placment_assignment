{
 "cells": [
  {
   "cell_type": "markdown",
   "id": "1dec37f1-bc95-40e2-992a-feddb6cfdaf9",
   "metadata": {},
   "source": [
    "Q1. Make the String Great: https://leetcode.com/problems/make-the-string-great/"
   ]
  },
  {
   "cell_type": "code",
   "execution_count": 4,
   "id": "9c2bafd7-c6f8-4e58-8b69-2ac86eafd68d",
   "metadata": {},
   "outputs": [
    {
     "data": {
      "text/plain": [
       "'leetcode'"
      ]
     },
     "execution_count": 4,
     "metadata": {},
     "output_type": "execute_result"
    }
   ],
   "source": [
    "def makeGood(s: str) -> str:\n",
    "    stack = []\n",
    "    for char in s:\n",
    "        if stack and (ord(stack[-1]) ^ ord(char)) == 32:\n",
    "            stack.pop()\n",
    "        else:\n",
    "            stack.append(char)\n",
    "\n",
    "    return ''.join(stack)\n",
    "\n",
    "makeGood(\"leEeetcode\")"
   ]
  },
  {
   "cell_type": "markdown",
   "id": "940e2c7f-272f-4137-a7e8-9a8916136c21",
   "metadata": {},
   "source": [
    "Q2. Remove all adjacent duplicates in a String : https://leetcode.com/problems/remove-all-adjacent-duplicates-in-string/"
   ]
  },
  {
   "cell_type": "code",
   "execution_count": 5,
   "id": "d7c0b216-5bcc-4e9a-ac5b-b7f40dcc8c70",
   "metadata": {},
   "outputs": [
    {
     "data": {
      "text/plain": [
       "'ca'"
      ]
     },
     "execution_count": 5,
     "metadata": {},
     "output_type": "execute_result"
    }
   ],
   "source": [
    "def removeDuplicates(s: str) -> str:\n",
    "    stack = []\n",
    "    for char in s:\n",
    "        if stack and stack[-1] == char:\n",
    "            stack.pop()\n",
    "        else:\n",
    "            stack.append(char)\n",
    "\n",
    "    return ''.join(stack)\n",
    "\n",
    "removeDuplicates(\"abbaca\")"
   ]
  },
  {
   "cell_type": "markdown",
   "id": "a1fd6a26-ccb8-4589-9f01-19834cea44e1",
   "metadata": {},
   "source": [
    "Q3. Online Stock Span: https://leetcode.com/problems/online-stock-span/"
   ]
  },
  {
   "cell_type": "code",
   "execution_count": null,
   "id": "d0ef9220-493f-4553-ae12-1ec251eec2ba",
   "metadata": {},
   "outputs": [],
   "source": [
    "class StockSpanner:\n",
    "\n",
    "    def __init__(self):\n",
    "        self.stack = []\n",
    "\n",
    "    def next(self, price: int) -> int:\n",
    "        res = 1\n",
    "        while self.stack and self.stack[-1][0] <= price:\n",
    "            res += self.stack.pop()[1]\n",
    "\n",
    "        self.stack.append([price, res])\n",
    "\n",
    "        return res\n",
    "\n",
    "\n",
    "# Your StockSpanner object will be instantiated and called as such:\n",
    "# obj = StockSpanner()\n",
    "# param_1 = obj.next(price)"
   ]
  },
  {
   "cell_type": "markdown",
   "id": "6f60fb10-58ef-4e10-8294-93a3fa89b472",
   "metadata": {},
   "source": [
    "Q4. Time Needed to buy tickets: https://leetcode.com/problems/time-needed-to-buy-tickets/"
   ]
  },
  {
   "cell_type": "code",
   "execution_count": 17,
   "id": "ca49c2d9-c2bf-48f4-9182-1f3388bf0a44",
   "metadata": {},
   "outputs": [
    {
     "data": {
      "text/plain": [
       "8"
      ]
     },
     "execution_count": 17,
     "metadata": {},
     "output_type": "execute_result"
    }
   ],
   "source": [
    "from collections import deque\n",
    "\n",
    "def timeRequiredToBuy(tickets: list[int], k: int) -> int:\n",
    "    n = len(tickets)\n",
    "    queue = deque()\n",
    "\n",
    "    # Enqueue each person's index and the number of tickets they want to buy\n",
    "    for i in range(n):\n",
    "        queue.append((i, tickets[i]))\n",
    "        \n",
    "    time_taken = 0\n",
    "\n",
    "    while queue:\n",
    "        idx, remaining_tickets = queue.popleft()\n",
    "\n",
    "        # If the person's index is equal to k\n",
    "        if idx == k:\n",
    "            # If the person has more than 1 ticket to buy, decrement their number of tickets by 1 and enqueue them back\n",
    "            if remaining_tickets > 1:\n",
    "                queue.append((idx, remaining_tickets - 1))\n",
    "            # If the person has exactly 1 ticket to buy, return the time_taken + 1\n",
    "            else:\n",
    "                return time_taken + 1\n",
    "\n",
    "        # If the person's index is not equal to k and they still have tickets to buy, enqueue them back into the queue\n",
    "        if idx!=k and remaining_tickets > 1:\n",
    "            queue.append((idx, remaining_tickets - 1))\n",
    "\n",
    "        time_taken += 1\n",
    "        \n",
    "timeRequiredToBuy(tickets = [5,1,1,1], k = 0)"
   ]
  },
  {
   "cell_type": "markdown",
   "id": "e2175ecf-f9c5-4031-92c4-79f244326b06",
   "metadata": {},
   "source": [
    "Q5. Product of the last K Numbers: https://leetcode.com/problems/product-of-the-last-k-numbers/"
   ]
  },
  {
   "cell_type": "code",
   "execution_count": 31,
   "id": "e3e100af-5fbd-4764-81a3-4ee4c0c325ae",
   "metadata": {},
   "outputs": [],
   "source": [
    "class ProductOfNumbers:\n",
    "\n",
    "    def __init__(self):\n",
    "        self.prefix_prod = [1]\n",
    "\n",
    "    def add(self, num: int) -> None:\n",
    "        if num == 0:\n",
    "            self.prefix_prod = [1]\n",
    "        else:\n",
    "            product = self.prefix_prod[-1] * num\n",
    "            self.prefix_prod.append(product)\n",
    "\n",
    "    def getProduct(self, k: int) -> int:\n",
    "        n = len(self.prefix_prod)\n",
    "        if k >= n:\n",
    "            return 0\n",
    "        else:\n",
    "            return self.prefix_prod[-1] // self.prefix_prod[n-k-1]\n",
    "\n",
    "\n",
    "# Your ProductOfNumbers object will be instantiated and called as such:\n",
    "# obj = ProductOfNumbers()\n",
    "# obj.add(num)\n",
    "# param_2 = obj.getProduct(k)"
   ]
  },
  {
   "cell_type": "markdown",
   "id": "f39bc1ea-c397-4c27-8dcb-bddd30f30f08",
   "metadata": {},
   "source": [
    "Q6. Largest Rectangle in Histogram : https://leetcode.com/problems/largest-rectangle-in-histogram/description/"
   ]
  },
  {
   "cell_type": "code",
   "execution_count": 1,
   "id": "098581fa-9187-4dbc-898b-5e6d21913764",
   "metadata": {},
   "outputs": [
    {
     "data": {
      "text/plain": [
       "10"
      ]
     },
     "execution_count": 1,
     "metadata": {},
     "output_type": "execute_result"
    }
   ],
   "source": [
    "def largestRectangleArea(heights: list[int]) -> int:\n",
    "    stack = []     # pair: (index, height)\n",
    "    maxArea = 0\n",
    "\n",
    "    for idx, h in enumerate(heights):\n",
    "        start = idx\n",
    "        while stack and stack[-1][1] > h:\n",
    "            index, height = stack.pop()\n",
    "            currArea = height * (idx - index)\n",
    "            maxArea = max(maxArea, currArea)\n",
    "            start = index\n",
    "        stack.append((start, h))\n",
    "\n",
    "    for idx, h in stack:\n",
    "        currArea = h * (len(heights) - idx)\n",
    "        maxArea = max(maxArea, currArea)\n",
    "\n",
    "    return maxArea\n",
    "\n",
    "largestRectangleArea(heights = [2,1,5,6,2,3])"
   ]
  },
  {
   "cell_type": "markdown",
   "id": "f7a40b9e-fe39-4810-8386-1476e703f837",
   "metadata": {},
   "source": [
    "Q7. Sliding Window Maximum: https://leetcode.com/problems/sliding-window-maximum/"
   ]
  },
  {
   "cell_type": "code",
   "execution_count": 2,
   "id": "f2fe82ef-e174-4684-8efc-fafc4192d52e",
   "metadata": {},
   "outputs": [
    {
     "data": {
      "text/plain": [
       "[3, 3, 5, 5, 6, 7]"
      ]
     },
     "execution_count": 2,
     "metadata": {},
     "output_type": "execute_result"
    }
   ],
   "source": [
    "from collections import deque\n",
    "\n",
    "def maxSlidingWindow(nums: list[int], k: int) -> list[int]:\n",
    "    q = deque()\n",
    "    output = []\n",
    "    left = 0\n",
    "    right = 0\n",
    "\n",
    "    while right < len(nums):\n",
    "        while q and nums[q[-1]] < nums[right]:\n",
    "            q.pop()\n",
    "        q.append(right)\n",
    "\n",
    "        if left > q[0]:\n",
    "            q.popleft()\n",
    "\n",
    "        if (right+1) >= k:\n",
    "            output.append(nums[q[0]])\n",
    "            left += 1\n",
    "\n",
    "        right += 1\n",
    "\n",
    "    return output\n",
    "\n",
    "maxSlidingWindow(nums = [1,3,-1,-3,5,3,6,7], k = 3)"
   ]
  },
  {
   "cell_type": "markdown",
   "id": "b7e18fec-4f6d-4b8e-822e-755f27cbe99a",
   "metadata": {},
   "source": [
    "Q8. Design a circular queue data structure with the following operations: enQueue, deQueue, Front, Rear, and isEmpty."
   ]
  },
  {
   "cell_type": "code",
   "execution_count": 8,
   "id": "f4040c42-1e06-4a5b-88f4-f85971585f45",
   "metadata": {},
   "outputs": [],
   "source": [
    "class MyCircularQueue:\n",
    "\n",
    "    def __init__(self, k: int):\n",
    "        self.CircularQueue = [0] * k\n",
    "        self.maxSize = k\n",
    "        self.head = 0\n",
    "        self.tail = -1  \n",
    "\n",
    "    def enQueue(self, value: int) -> bool:\n",
    "        if self.isFull() :\n",
    "            return False\n",
    "        self.tail = (self.tail + 1) % self.maxSize\n",
    "        self.CircularQueue[self.tail] = value\n",
    "        return True\n",
    "\n",
    "    def deQueue(self) -> bool:\n",
    "        if self.isEmpty():\n",
    "            return False\n",
    "        if self.head == self.tail:           # ony one element left to be removed\n",
    "            self.head = 0\n",
    "            self.tail = -1\n",
    "        else:\n",
    "            self.head = (self.head + 1) % self.maxSize\n",
    "        return True\n",
    "\n",
    "    def Front(self) -> int:\n",
    "        if self.isEmpty():\n",
    "            return -1\n",
    "        else:\n",
    "            return self.CircularQueue[self.head]\n",
    "\n",
    "    def Rear(self) -> int:\n",
    "        if self.isEmpty():\n",
    "            return -1\n",
    "        else:\n",
    "            return self.CircularQueue[self.tail]\n",
    "\n",
    "    def isEmpty(self) -> bool:\n",
    "        return self.tail == -1\n",
    "\n",
    "    def isFull(self) -> bool:\n",
    "        return not self.isEmpty() and (self.tail + 1) % self.maxSize == self.head\n",
    "    \n",
    "circQue = MyCircularQueue(3)"
   ]
  },
  {
   "cell_type": "code",
   "execution_count": 9,
   "id": "e4136d56-5f3e-4c4a-a0c7-f45fa17b5083",
   "metadata": {},
   "outputs": [
    {
     "data": {
      "text/plain": [
       "True"
      ]
     },
     "execution_count": 9,
     "metadata": {},
     "output_type": "execute_result"
    }
   ],
   "source": [
    "circQue.enQueue(1) \n",
    "circQue.enQueue(2) \n",
    "circQue.enQueue(3)"
   ]
  },
  {
   "cell_type": "code",
   "execution_count": 10,
   "id": "ef5be37c-9b0e-4dfa-a739-4676d0ec3850",
   "metadata": {},
   "outputs": [
    {
     "data": {
      "text/plain": [
       "False"
      ]
     },
     "execution_count": 10,
     "metadata": {},
     "output_type": "execute_result"
    }
   ],
   "source": [
    "circQue.enQueue(4)"
   ]
  },
  {
   "cell_type": "code",
   "execution_count": 11,
   "id": "e28a7059-5b7f-4ccf-868d-a2cb6ff9683d",
   "metadata": {},
   "outputs": [
    {
     "data": {
      "text/plain": [
       "[1, 2, 3]"
      ]
     },
     "execution_count": 11,
     "metadata": {},
     "output_type": "execute_result"
    }
   ],
   "source": [
    "circQue.CircularQueue"
   ]
  },
  {
   "cell_type": "code",
   "execution_count": 14,
   "id": "5efa548a-3440-4c1a-b2bc-57b35b754d14",
   "metadata": {},
   "outputs": [
    {
     "data": {
      "text/plain": [
       "True"
      ]
     },
     "execution_count": 14,
     "metadata": {},
     "output_type": "execute_result"
    }
   ],
   "source": [
    "circQue.isFull()"
   ]
  },
  {
   "cell_type": "code",
   "execution_count": 15,
   "id": "de31d5dc-d3d0-4e92-8a40-ff71c1d469b7",
   "metadata": {},
   "outputs": [
    {
     "data": {
      "text/plain": [
       "True"
      ]
     },
     "execution_count": 15,
     "metadata": {},
     "output_type": "execute_result"
    }
   ],
   "source": [
    "circQue.deQueue()"
   ]
  },
  {
   "cell_type": "code",
   "execution_count": 16,
   "id": "69f8d71e-8c6a-4d27-9261-25fbe4ad3816",
   "metadata": {},
   "outputs": [
    {
     "data": {
      "text/plain": [
       "False"
      ]
     },
     "execution_count": 16,
     "metadata": {},
     "output_type": "execute_result"
    }
   ],
   "source": [
    "circQue.isFull()"
   ]
  },
  {
   "cell_type": "code",
   "execution_count": 18,
   "id": "1ad807c8-adcb-491f-aed1-377e60f25668",
   "metadata": {},
   "outputs": [
    {
     "data": {
      "text/plain": [
       "True"
      ]
     },
     "execution_count": 18,
     "metadata": {},
     "output_type": "execute_result"
    }
   ],
   "source": [
    "circQue.enQueue(4)"
   ]
  },
  {
   "cell_type": "code",
   "execution_count": 20,
   "id": "40e634dd-bb4b-4d3a-a0e3-146fc8e0c522",
   "metadata": {},
   "outputs": [
    {
     "data": {
      "text/plain": [
       "[4, 2, 3]"
      ]
     },
     "execution_count": 20,
     "metadata": {},
     "output_type": "execute_result"
    }
   ],
   "source": [
    "circQue.CircularQueue"
   ]
  },
  {
   "cell_type": "code",
   "execution_count": 21,
   "id": "2c50e5f5-fccf-4ccf-920d-55b38f31353a",
   "metadata": {},
   "outputs": [
    {
     "data": {
      "text/plain": [
       "4"
      ]
     },
     "execution_count": 21,
     "metadata": {},
     "output_type": "execute_result"
    }
   ],
   "source": [
    "circQue.Rear()"
   ]
  },
  {
   "cell_type": "code",
   "execution_count": 22,
   "id": "4b13cb27-4804-473a-aa9a-9a0afdbf7d80",
   "metadata": {},
   "outputs": [
    {
     "data": {
      "text/plain": [
       "2"
      ]
     },
     "execution_count": 22,
     "metadata": {},
     "output_type": "execute_result"
    }
   ],
   "source": [
    "circQue.Front()"
   ]
  }
 ],
 "metadata": {
  "kernelspec": {
   "display_name": "Python 3 (ipykernel)",
   "language": "python",
   "name": "python3"
  },
  "language_info": {
   "codemirror_mode": {
    "name": "ipython",
    "version": 3
   },
   "file_extension": ".py",
   "mimetype": "text/x-python",
   "name": "python",
   "nbconvert_exporter": "python",
   "pygments_lexer": "ipython3",
   "version": "3.10.9"
  }
 },
 "nbformat": 4,
 "nbformat_minor": 5
}
